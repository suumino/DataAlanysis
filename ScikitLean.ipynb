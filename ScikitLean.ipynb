{
  "nbformat": 4,
  "nbformat_minor": 0,
  "metadata": {
    "colab": {
      "name": "Untitled8.ipynb",
      "provenance": [],
      "authorship_tag": "ABX9TyNNhmFwpiHyEMIIvctFPOFK",
      "include_colab_link": true
    },
    "kernelspec": {
      "name": "python3",
      "display_name": "Python 3"
    },
    "language_info": {
      "name": "python"
    }
  },
  "cells": [
    {
      "cell_type": "markdown",
      "metadata": {
        "id": "view-in-github",
        "colab_type": "text"
      },
      "source": [
        "<a href=\"https://colab.research.google.com/github/suumino/DataAlanysis/blob/main/ScikitLean.ipynb\" target=\"_parent\"><img src=\"https://colab.research.google.com/assets/colab-badge.svg\" alt=\"Open In Colab\"/></a>"
      ]
    },
    {
      "cell_type": "markdown",
      "source": [
        "# 사이킷런(scikit-learn) 시작\n",
        "\n",
        "![scikit-learn logo.png](https://drive.google.com/uc?id=1Aeb0mBJzYgz7UGmHAdGsQJF44EM9mNTD)\n",
        "\n",
        "https://www.youtube.com/watch?v=eVxGhCRN-xA"
      ],
      "metadata": {
        "id": "cy2DNA6cLvLs"
      }
    },
    {
      "cell_type": "markdown",
      "source": [
        "## scikit-learn 특징\n",
        "\n",
        "* 다양한 머신러닝 알고리즘을 구현한 파이썬 라이브러리\n",
        "* 심플하고 일관성 있는 API, 유용한 온라인 문서, 풍부한 예제\n",
        "* 머신러닝을 위한 쉽고 효율적인 개발 라이브러리 제공\n",
        "* 다양한 머신러닝 관련 알고리즘과 개발을 위한 프레임워크와 API 제공\n",
        "* 많은 사람들이 사용하며 다양한 환경에서 검증된 라이브러리\n",
        "\n"
      ],
      "metadata": {
        "id": "cCTrUBg4LLD2"
      }
    },
    {
      "cell_type": "markdown",
      "source": [
        "## scikit-learn 주요 모듈"
      ],
      "metadata": {
        "id": "cqrNPzcOLkYb"
      }
    },
    {
      "cell_type": "markdown",
      "source": [
        "| 모듈 | 설명 |\n",
        "|------|------|\n",
        "| `sklearn.datasets` | 내장된 예제 데이터 세트 |\n",
        "| `sklearn.preprocessing` | 다양한 데이터 전처리 기능 제공 (변환, 정규화, 스케일링 등) |\n",
        "| `sklearn.feature_selection` | 특징(feature)를 선택할 수 있는 기능 제공 | \n",
        "| `sklearn.feature_extraction` | 특징(feature) 추출에 사용 |\n",
        "| `sklearn.decomposition` | 차원 축소 관련 알고리즘 지원 (PCA, NMF, Truncated SVD 등)\n",
        "| `sklearn.model_selection` | 교차 검증을 위해 데이터를 학습/테스트용으로 분리, 최적 파라미터를 추출하는 API 제공 (GridSearch 등)\n",
        "| `sklearn.metrics` | 분류, 회귀, 클러스터링, Pairwise에 대한 다양한 성능 측정 방법 제공 (Accuracy, Precision, Recall, ROC-AUC, RMSE 등) |\n",
        "| `sklearn.pipeline` | 특징 처리 등의 변환과 ML 알고리즘 학습, 예측 등을 묶어서 실행할 수 있는 유틸리티 제공 |\n",
        "| `sklearn.linear_model` | 선형 회귀, 릿지(Ridge), 라쏘(Lasso), 로지스틱 회귀 등 회귀 관련 알고리즘과 SGD(Stochastic Gradient Descent) 알고리즘 제공 |\n",
        "| `sklearn.svm` | 서포트 벡터 머신 알고리즘 제공 |\n",
        "| `sklearn.neighbors` | 최근접 이웃 알고리즘 제공 (k-NN 등)\n",
        "| `sklearn.naive_bayes` | 나이브 베이즈 알고리즘 제공 (가우시안 NB, 다항 분포 NB 등) |\n",
        "| `sklearn.tree` | 의사 결정 트리 알고리즘 제공 |\n",
        "| `sklearn.ensemble` | 앙상블 알고리즘 제공 (Random Forest, AdaBoost, GradientBoost 등) |\n",
        "| `sklearn.cluster` | 비지도 클러스터링 알고리즘 제공 (k-Means, 계층형 클러스터링, DBSCAN 등)"
      ],
      "metadata": {
        "id": "rsRwLI4oLhS5"
      }
    },
    {
      "cell_type": "markdown",
      "source": [
        "## `estimator` API\n",
        "\n",
        "* 일관성: 모든 객체는 일관된 문서를 갖춘 제한된 메서드 집합에서 비롯된 공통 인터페이스 공유\n",
        "* 검사(inspection): 모든 지정된 파라미터 값은 공개 속성으로 노출\n",
        "* 제한된 객체 계층 구조\n",
        "  + 알고리즘만 파이썬 클래스에 의해 표현\n",
        "  + 데이터 세트는 표준 포맷(NumPy 배열, Pandas DataFrame, Scipy 희소 행렬)으로 표현\n",
        "  + 매개변수명은 표준 파이썬 문자열 사용\n",
        "* 구성: 많은 머신러닝 작업은 기본 알고리즘의 시퀀스로 나타낼 수 있으며, Scikit-Learn은 가능한 곳이라면 어디서든 이 방식을 사용\n",
        "* 합리적인 기본값: 모델이 사용자 지정 파라미터를 필요로 할 때 라이브러리가 적절한 기본값을 정의"
      ],
      "metadata": {
        "id": "qqrw3Dy1L1Cm"
      }
    },
    {
      "cell_type": "markdown",
      "source": [
        "### API 사용 방법\n",
        "\n",
        "1. Scikit-Learn으로부터 적절한 `estimator` 클래스를 임포트해서 모델의 클래스 선택\n",
        "2. 클래스를 원하는 값으로 인스턴스화해서 모델의 하이퍼파라미터 선택\n",
        "3. 데이터를 특징 배열과 대상 벡터로 배치\n",
        "4. 모델 인스턴스의 `fit()` 메서드를 호출해 모델을 데이터에 적합\n",
        "5. 모델을 새 데이터에 대해서 적용\n",
        "  + 지도 학습: 대체로 `predict()` 메서드를 사용해 알려지지 않은 데이터에 대한 레이블 예측\n",
        "  + 비지도 학습: 대체로 `transform()`이나 `predict()` 메서드를 사용해 데이터의 속성을 변환하거나 추론"
      ],
      "metadata": {
        "id": "Pb2HcGSPL1Ey"
      }
    },
    {
      "cell_type": "markdown",
      "source": [
        "![scikit-learn](https://scikit-learn.org/stable/_static/ml_map.png)"
      ],
      "metadata": {
        "id": "jTCfSfu3L1HG"
      }
    },
    {
      "cell_type": "markdown",
      "source": [
        "### API 사용 예제"
      ],
      "metadata": {
        "id": "geJbKlsXMQHR"
      }
    },
    {
      "cell_type": "code",
      "source": [
        "import numpy as np\n",
        "import matplotlib.pyplot as plt\n",
        "plt.style.use(['seaborn-whitegrid'])"
      ],
      "metadata": {
        "id": "Bzz-ikpg338G"
      },
      "execution_count": 2,
      "outputs": []
    },
    {
      "cell_type": "code",
      "source": [
        "x = 10 * np.random.rand(50)\n",
        "y = 2 * x + np.random.rand(50)\n",
        "plt.scatter(x, y);"
      ],
      "metadata": {
        "colab": {
          "base_uri": "https://localhost:8080/",
          "height": 262
        },
        "id": "buzMAFQ94Axw",
        "outputId": "3275f970-903a-48c3-8039-bccd59bc56e1"
      },
      "execution_count": 3,
      "outputs": [
        {
          "output_type": "display_data",
          "data": {
            "text/plain": [
              "<Figure size 432x288 with 1 Axes>"
            ],
            "image/png": "[encoded data removed]"
          },
          "metadata": {}
        }
      ]
    },
    {
      "cell_type": "code",
      "source": [
        "# 1. Scikit-Learn으로부터 적절한 estimator 클래스를 임포트해서 모델의 클래스 선택\n",
        "\n",
        "from sklearn.linear_model import LinearRegression"
      ],
      "metadata": {
        "id": "_-D_FJMdMP4j"
      },
      "execution_count": 4,
      "outputs": []
    },
    {
      "cell_type": "code",
      "source": [
        "# 2. 클래스를 원하는 값으로 인스턴스화해서 모델의 하이퍼파라미터 선택\n",
        "\n",
        "model = LinearRegression(fit_intercept=True)\n",
        "model\n",
        "\n",
        "# 기본 하이퍼파라미터\n",
        "# copy_X=True : 복제본을 사용할 것인지 설정\n",
        "# fit_intercept=True : 상수 형태의 값을 사용할 것이냐\n",
        "# n_jobs=None : 컴퓨터의 여러개 코어를 사용하여 병렬적으로 알고리즘을 처리할것이냐\n",
        "# normalize=False : 정규화가 되어있냐"
      ],
      "metadata": {
        "colab": {
          "base_uri": "https://localhost:8080/"
        },
        "id": "FKU7y6QR3fu9",
        "outputId": "bc3a571f-aa10-454a-c786-7e04d7cbc799"
      },
      "execution_count": 5,
      "outputs": [
        {
          "output_type": "execute_result",
          "data": {
            "text/plain": [
              "LinearRegression()"
            ]
          },
          "metadata": {},
          "execution_count": 5
        }
      ]
    },
    {
      "cell_type": "code",
      "source": [
        "# 3. 데이터를 특징 배열과 대상 벡터로 배치\n",
        "\n",
        "X = x[:, np.newaxis]\n",
        "X"
      ],
      "metadata": {
        "colab": {
          "base_uri": "https://localhost:8080/"
        },
        "id": "WqPTj9ra3fsy",
        "outputId": "e8365911-983f-4373-8ea8-f6dc3ae765cf"
      },
      "execution_count": 6,
      "outputs": [
        {
          "output_type": "execute_result",
          "data": {
            "text/plain": [
              "array([[0.85963376],\n",
              "       [6.24610822],\n",
              "       [8.62212044],\n",
              "       [9.28151239],\n",
              "       [5.89820199],\n",
              "       [1.24280509],\n",
              "       [6.36918918],\n",
              "       [0.96767467],\n",
              "       [8.38848487],\n",
              "       [0.47800333],\n",
              "       [7.87936453],\n",
              "       [7.20851707],\n",
              "       [4.91057328],\n",
              "       [9.15603366],\n",
              "       [7.62025181],\n",
              "       [0.92107722],\n",
              "       [5.53969552],\n",
              "       [9.72871683],\n",
              "       [6.04365421],\n",
              "       [5.68780228],\n",
              "       [3.89893235],\n",
              "       [5.83103445],\n",
              "       [3.88609499],\n",
              "       [3.33216211],\n",
              "       [1.08752424],\n",
              "       [4.35894147],\n",
              "       [6.54832029],\n",
              "       [4.87190626],\n",
              "       [9.60248629],\n",
              "       [1.32092507],\n",
              "       [2.09287059],\n",
              "       [7.87212709],\n",
              "       [3.90111609],\n",
              "       [3.39853579],\n",
              "       [5.02388937],\n",
              "       [3.36040482],\n",
              "       [1.09951056],\n",
              "       [4.75352555],\n",
              "       [9.95256546],\n",
              "       [2.53875058],\n",
              "       [3.40005607],\n",
              "       [6.19250162],\n",
              "       [3.82164971],\n",
              "       [8.01277572],\n",
              "       [9.6846764 ],\n",
              "       [9.02712205],\n",
              "       [4.90594506],\n",
              "       [6.89022208],\n",
              "       [4.2098295 ],\n",
              "       [8.25072314]])"
            ]
          },
          "metadata": {},
          "execution_count": 6
        }
      ]
    },
    {
      "cell_type": "code",
      "source": [
        "# 4. 모델 인스턴스의 fit() 메서드를 호출해 모델을 데이터에 적합\n",
        "\n",
        "model.fit(X, y)"
      ],
      "metadata": {
        "colab": {
          "base_uri": "https://localhost:8080/"
        },
        "id": "tY8GEZnd3fqL",
        "outputId": "d7f3333d-1c5b-4e90-f2ad-f6ac3437fcba"
      },
      "execution_count": 7,
      "outputs": [
        {
          "output_type": "execute_result",
          "data": {
            "text/plain": [
              "LinearRegression()"
            ]
          },
          "metadata": {},
          "execution_count": 7
        }
      ]
    },
    {
      "cell_type": "code",
      "source": [
        "model.coef_"
      ],
      "metadata": {
        "id": "ME_VSd7eZXaf",
        "outputId": "81fdcc19-8e39-4f82-9237-6c3ab8c01f19",
        "colab": {
          "base_uri": "https://localhost:8080/"
        }
      },
      "execution_count": 8,
      "outputs": [
        {
          "output_type": "execute_result",
          "data": {
            "text/plain": [
              "array([2.01858937])"
            ]
          },
          "metadata": {},
          "execution_count": 8
        }
      ]
    },
    {
      "cell_type": "code",
      "source": [
        "model.intercept_"
      ],
      "metadata": {
        "id": "JtaYpRAtZZKk",
        "outputId": "03f18a14-42dc-46df-feb0-492c215865df",
        "colab": {
          "base_uri": "https://localhost:8080/"
        }
      },
      "execution_count": 9,
      "outputs": [
        {
          "output_type": "execute_result",
          "data": {
            "text/plain": [
              "0.38522070011311627"
            ]
          },
          "metadata": {},
          "execution_count": 9
        }
      ]
    },
    {
      "cell_type": "code",
      "source": [
        "# 5. 모델을 새 데이터에 대해서 적용\n",
        "\n",
        "xfit = np.linspace(-1, 11)\n",
        "Xfit = xfit[:, np.newaxis]\n",
        "yfit = model.predict(Xfit)"
      ],
      "metadata": {
        "id": "Q59PzhUe3fnm"
      },
      "execution_count": 10,
      "outputs": []
    },
    {
      "cell_type": "code",
      "source": [
        "plt.scatter(x, y)\n",
        "plt.plot(xfit, yfit, '--r')"
      ],
      "metadata": {
        "colab": {
          "base_uri": "https://localhost:8080/",
          "height": 280
        },
        "id": "dk8UOWKY3fld",
        "outputId": "cafbf4e5-a20a-43fc-fb44-cad416733829"
      },
      "execution_count": 11,
      "outputs": [
        {
          "output_type": "execute_result",
          "data": {
            "text/plain": [
              "[<matplotlib.lines.Line2D at 0x7f4998540390>]"
            ]
          },
          "metadata": {},
          "execution_count": 11
        },
        {
          "output_type": "display_data",
          "data": {
            "text/plain": [
              "<Figure size 432x288 with 1 Axes>"
            ],
            "image/png": "[encoded data removed]"
          },
          "metadata": {}
        }
      ]
    },
    {
      "cell_type": "markdown",
      "source": [
        "## 예제 데이터 세트"
      ],
      "metadata": {
        "id": "-zmWTKyFL1Jg"
      }
    },
    {
      "cell_type": "markdown",
      "source": [
        "### 분류 또는 회귀용 데이터 세트\n",
        "\n",
        "| API | 설명 |\n",
        "|-----|------|\n",
        "| `datasets.load_boston()` | 미국 보스턴의 집에 대한 특징과 가격 데이터 (회귀용) |\n",
        "| `datasets.load_breast_cancer()` | 위스콘신 유방암 특징들과 악성/음성 레이블 데이터 (분류용) |\n",
        "| `datasets.load_diabetes()` | 당뇨 데이터 (회귀용) |\n",
        "| `datasets.load_digits()` | 0에서 9까지 숫자 이미지 픽셀 데이터 (분류용) |\n",
        "| `datasets.load_iris()` | 붓꽃에 대한 특징을 가진 데이터 (분류용) |"
      ],
      "metadata": {
        "id": "V7uQy-LxMWHq"
      }
    },
    {
      "cell_type": "markdown",
      "source": [
        "### 온라인 데이터 세트\n",
        "\n",
        "* 데이터 크기가 커서 온라인에서 데이터를 다운로드 한 후에 불러오는 예제 데이터 세트\n",
        "\n",
        "| API | 설명 |\n",
        "|-----|------|\n",
        "| `fetch_california_housing()` | 캘리포니아 주택 가격 데이터 |\n",
        "| `fetch_covtype()` | 회귀 분석용 토지 조사 데이터 |\n",
        "| `fetch_20newsgroups()` | 뉴스 그룹 텍스트 데이터 |\n",
        "| `fetch_olivetti_faces()` | 얼굴 이미지 데이터 |\n",
        "| `fetch_lfw_people()` | 얼굴 이미지 데이터 |\n",
        "| `fetch_lfw_paris()` | 얼굴 이미지 데이터 |\n",
        "| `fetch_rcv1()` | 로이터 뉴스 말뭉치 데이터 |\n",
        "| `fetch_mldata()` | ML 웹사이트에서 다운로드 |"
      ],
      "metadata": {
        "id": "74UxzQJaL1LZ"
      }
    },
    {
      "cell_type": "markdown",
      "source": [
        "### 분류와 클러스터링을 위한 표본 데이터 생성\n",
        "\n",
        "| API | 설명 |\n",
        "|-----|------|\n",
        "| `datasets.make_classifications()` | 분류를 위한 데이터 세트 생성. 높은 상관도, 불필요한 속성 등의 노이즈를 고려한 데이터를 무작위로 생성 |\n",
        "| `datasets.make_blobs()` | 클러스터링을 위한 데이터 세트 생성. 군집 지정 개수에 따라 여러 가지 클러스터링을 위한 데이터 셋트를 무작위로 생성 |"
      ],
      "metadata": {
        "id": "PUdMSrrMMWA8"
      }
    },
    {
      "cell_type": "markdown",
      "source": [
        "### 예제 데이터 세트 구조\n",
        "\n",
        "* 일반적으로 딕셔너리 형태로 구성\n",
        "* data: 특징 데이터 세트\n",
        "* target: 분류용은 레이블 값, 회귀용은 숫자 결과값 데이터\n",
        "* target_names: 개별 레이블의 이름 (분류용)\n",
        "* feature_names: 특징 이름\n",
        "* DESCR: 데이터 세트에 대한 설명과 각 특징 설명"
      ],
      "metadata": {
        "id": "U_CvPSuVMWDQ"
      }
    },
    {
      "cell_type": "code",
      "source": [
        ""
      ],
      "metadata": {
        "id": "AfPGt03CMfXn"
      },
      "execution_count": null,
      "outputs": []
    },
    {
      "cell_type": "code",
      "source": [
        ""
      ],
      "metadata": {
        "id": "PByaOEEsMftb"
      },
      "execution_count": null,
      "outputs": []
    },
    {
      "cell_type": "markdown",
      "source": [
        "## `model_selection` 모듈\n",
        "\n",
        "* 학습용 데이터와 테스트 데이터로 분리\n",
        "* 교차 검증 분할 및 평가\n",
        "* Estimator의 하이퍼 파라미터 튜닝을 위한 다양한 함수와 클래스 제공"
      ],
      "metadata": {
        "id": "xZ5sN3cYMWFq"
      }
    },
    {
      "cell_type": "markdown",
      "source": [
        "### `train_test_split()`: 학습/테스트 데이터 세트 분리"
      ],
      "metadata": {
        "id": "FQL-eMi1MYae"
      }
    },
    {
      "cell_type": "code",
      "source": [
        ""
      ],
      "metadata": {
        "id": "X4G1lAOdMXZ0"
      },
      "execution_count": null,
      "outputs": []
    },
    {
      "cell_type": "code",
      "source": [
        ""
      ],
      "metadata": {
        "id": "3yQ_IN7SMlX6"
      },
      "execution_count": null,
      "outputs": []
    },
    {
      "cell_type": "markdown",
      "source": [
        "### `cross_val_score()`: 교차 검증\n"
      ],
      "metadata": {
        "id": "CuYqM08rMmAW"
      }
    },
    {
      "cell_type": "code",
      "source": [
        ""
      ],
      "metadata": {
        "id": "yM_77IJDMqgG"
      },
      "execution_count": null,
      "outputs": []
    },
    {
      "cell_type": "markdown",
      "source": [
        "### `GridSearchCV`: 교차 검증과 최적 하이퍼 파라미터 찾기\n",
        "\n",
        "* 훈련 단계에서 학습한 파라미터에 영향을 받아서 최상의 파라미터를 찾는 일은 항상 어려운 문제\n",
        "* 다양한 모델의 훈련 과정을 자동화하고, 교차 검사를 사용해 최적 값을 제공하는 도구 필요"
      ],
      "metadata": {
        "id": "3LLmrNg5MmFT"
      }
    },
    {
      "cell_type": "code",
      "source": [
        ""
      ],
      "metadata": {
        "id": "1QwhIOIKMqEM"
      },
      "execution_count": null,
      "outputs": []
    },
    {
      "cell_type": "markdown",
      "source": [
        "* `multiprocessing`을 이용한 `GridSearchCV`"
      ],
      "metadata": {
        "id": "RhOe2601Mrif"
      }
    },
    {
      "cell_type": "code",
      "source": [
        ""
      ],
      "metadata": {
        "id": "GZQ0bY1JMtIY"
      },
      "execution_count": null,
      "outputs": []
    },
    {
      "cell_type": "markdown",
      "source": [
        "## `preprocessing` 데이터 전처리 모듈\n",
        "\n",
        "* 데이터의 특징 스케일링(feature scaling)을 위한 방법으로 표준화(Standardization)와 정규화(Normalization) 사용\n",
        "\n",
        "+ 표준화 방법\n",
        "\n",
        "\\begin{equation}\n",
        "x_i^{'} = \\frac{x_i-mean(x)}{stdev(x)}\n",
        "\\end{equation}\n",
        "\n",
        "+ 정규화 방법\n",
        "\n",
        "\\begin{equation}\n",
        "x_i^{'} = \\frac{x_i-min(x)}{max(x)-min(x)}\n",
        "\\end{equation}\n",
        "\n",
        "+ scikit-learn에서는 개별 벡터 크기를 맞추는 형태로 정규화"
      ],
      "metadata": {
        "id": "mJ1VM0ecMt2M"
      }
    },
    {
      "cell_type": "markdown",
      "source": [
        "### `StandardScaler`: 표준화 클래스"
      ],
      "metadata": {
        "id": "ArIPVmI3Mvsn"
      }
    },
    {
      "cell_type": "code",
      "source": [
        ""
      ],
      "metadata": {
        "id": "gqfZmmWFMu_h"
      },
      "execution_count": null,
      "outputs": []
    },
    {
      "cell_type": "code",
      "source": [
        ""
      ],
      "metadata": {
        "id": "vnf63IPpMyNy"
      },
      "execution_count": null,
      "outputs": []
    },
    {
      "cell_type": "code",
      "source": [
        ""
      ],
      "metadata": {
        "id": "hH9CedCnMyDX"
      },
      "execution_count": null,
      "outputs": []
    },
    {
      "cell_type": "markdown",
      "source": [
        "### `MinMaxScaler`: 정규화 클래스"
      ],
      "metadata": {
        "id": "x3FT8UREMyte"
      }
    },
    {
      "cell_type": "code",
      "source": [
        ""
      ],
      "metadata": {
        "id": "ISeVgTH4M1XA"
      },
      "execution_count": null,
      "outputs": []
    },
    {
      "cell_type": "code",
      "source": [
        ""
      ],
      "metadata": {
        "id": "XE1tVmu3M2aU"
      },
      "execution_count": null,
      "outputs": []
    },
    {
      "cell_type": "markdown",
      "source": [
        "## 성능 평가 지표"
      ],
      "metadata": {
        "id": "F2shsSt5M4F4"
      }
    },
    {
      "cell_type": "markdown",
      "source": [
        "### 정확도(Accuracy)\n",
        "\n",
        "* 정확도는 전체 예측 데이터 건수 중 예측 결과가 동일한 데이터 건수로 계산\n",
        "* scikit-learn에서는 `accuracy_score` 함수를 제공"
      ],
      "metadata": {
        "id": "Bp7ek_mNM4dJ"
      }
    },
    {
      "cell_type": "code",
      "source": [
        ""
      ],
      "metadata": {
        "id": "LLbHSTsBM6mJ"
      },
      "execution_count": null,
      "outputs": []
    },
    {
      "cell_type": "markdown",
      "source": [
        "### 오차 행렬(Confusion Matrix)\n",
        "\n",
        "* True Negative: 예측값을 Negative 값 0으로 예측했고, 실제 값도 Negative 값 0\n",
        "* False Positive: 예측값을 Positive 값 1로 예측했는데, 실제 값은 Negative 값 0\n",
        "* False Negative: 예측값을 Negative 값 0으로 예측했는데, 실제 값은 Positive 값 1\n",
        "* True Positive: 예측값을 Positive 값 1로 예측했고, 실제 값도 Positive 값 1"
      ],
      "metadata": {
        "id": "IAgXajavM7O1"
      }
    },
    {
      "cell_type": "code",
      "source": [
        ""
      ],
      "metadata": {
        "id": "OA7SFqNGM9Kj"
      },
      "execution_count": null,
      "outputs": []
    },
    {
      "cell_type": "code",
      "source": [
        ""
      ],
      "metadata": {
        "id": "2PNjGjS2M9qy"
      },
      "execution_count": null,
      "outputs": []
    },
    {
      "cell_type": "markdown",
      "source": [
        "### 정밀도(Precision)와 재현율(Recall)\n",
        "\n",
        "* 정밀도 = TP / (FP + TP)\n",
        "* 재현율 = TP / (FN + TP)\n",
        "\n",
        "* 정확도 = (TN + TP) / (TN + FP + FN + TP)\n",
        "* 오류율 = (FN + FP) / (TN + FP + FN + TP)"
      ],
      "metadata": {
        "id": "fUVZmz6hM-HK"
      }
    },
    {
      "cell_type": "code",
      "source": [
        ""
      ],
      "metadata": {
        "id": "ysIF9L02M_iv"
      },
      "execution_count": null,
      "outputs": []
    },
    {
      "cell_type": "markdown",
      "source": [
        "### F1 Score(F-measure)\n",
        "\n",
        "* 정밀도와 재현율을 결합한 지표\n",
        "* 정밀도와 재현율이 어느 한쪽으로 치우치지 않을 때 높은 값을 가짐\n",
        "\n",
        "\\begin{equation}\n",
        "F1 = 2 \\times \\frac{precision \\times recall}{precision + recall}\n",
        "\\end{equation}\n"
      ],
      "metadata": {
        "id": "3Hpk1jhXNAIc"
      }
    },
    {
      "cell_type": "code",
      "source": [
        ""
      ],
      "metadata": {
        "id": "xdtHCdC4NBUF"
      },
      "execution_count": null,
      "outputs": []
    },
    {
      "cell_type": "code",
      "source": [
        ""
      ],
      "metadata": {
        "id": "S4iWWwUmNCHc"
      },
      "execution_count": null,
      "outputs": []
    },
    {
      "cell_type": "markdown",
      "source": [
        "### ROC 곡선과 AUC\n",
        "\n",
        "* ROC 곡선은 FPR(False Positive Rate)이 변할 때 TPR(True Positive Rate)이 어떻게 변하는지 나타내는 곡선\n",
        "  + TPR(True Positive Rate): TP / (FN + TP), 재현율\n",
        "  + TNR(True Negative Rate): TN / (FP + TN)\n",
        "  + FPR(False Positive Rate): FP / (FP + TN), 1 - TNR\n",
        "\n",
        "* AUC(Area Under Curve) 값은 ROC 곡선 밑에 면적을 구한 값 (1이 가까울수록 좋은 값)"
      ],
      "metadata": {
        "id": "SM_z_lwTNDIT"
      }
    },
    {
      "cell_type": "code",
      "source": [
        ""
      ],
      "metadata": {
        "id": "PgtK6K9lNEUR"
      },
      "execution_count": null,
      "outputs": []
    },
    {
      "cell_type": "code",
      "source": [
        ""
      ],
      "metadata": {
        "id": "zT6C-AB_NE9n"
      },
      "execution_count": null,
      "outputs": []
    },
    {
      "cell_type": "markdown",
      "source": [
        "## 참고문헌\n",
        "\n",
        "* scikit-learn 사이트: https://scikit-learn.org/\n",
        "* Jake VanderPlas, \"Python Data Science Handbook\", O'Reilly\n",
        "* Sebastian Raschka, Vahid Mirjalili, \"Python Machine Learning\", Packt\n",
        "* Giuseppe Bonaccorso, \"Machine Learning Algorithm\", Packt\n",
        "* Aurelien Geron, \"Hands-On Machine Learning with Scikit-Learn, Keras, and TensorFlow: Concepts, Tools, and Techniques to Build Intelligent Systems\", O'Reilly"
      ],
      "metadata": {
        "id": "m_U-OkUbNFQV"
      }
    },
    {
      "cell_type": "code",
      "source": [
        ""
      ],
      "metadata": {
        "id": "r1Wh7bxkNHtg"
      },
      "execution_count": null,
      "outputs": []
    }
  ]
}