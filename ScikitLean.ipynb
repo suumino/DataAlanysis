{
  "nbformat": 4,
  "nbformat_minor": 0,
  "metadata": {
    "colab": {
      "name": "Untitled8.ipynb",
      "provenance": [],
      "authorship_tag": "ABX9TyPZLjmx3oFbQKvHXh5ZE1ua",
      "include_colab_link": true
    },
    "kernelspec": {
      "name": "python3",
      "display_name": "Python 3"
    },
    "language_info": {
      "name": "python"
    }
  },
  "cells": [
    {
      "cell_type": "markdown",
      "metadata": {
        "id": "view-in-github",
        "colab_type": "text"
      },
      "source": [
        "<a href=\"https://colab.research.google.com/github/suumino/DataAlanysis/blob/main/ScikitLean.ipynb\" target=\"_parent\"><img src=\"https://colab.research.google.com/assets/colab-badge.svg\" alt=\"Open In Colab\"/></a>"
      ]
    },
    {
      "cell_type": "markdown",
      "source": [
        "# 사이킷런(scikit-learn) 시작\n",
        "\n",
        "![scikit-learn logo.png](https://drive.google.com/uc?id=1Aeb0mBJzYgz7UGmHAdGsQJF44EM9mNTD)\n",
        "\n",
        "https://www.youtube.com/watch?v=eVxGhCRN-xA"
      ],
      "metadata": {
        "id": "cy2DNA6cLvLs"
      }
    },
    {
      "cell_type": "markdown",
      "source": [
        "## scikit-learn 특징\n",
        "\n",
        "* 다양한 머신러닝 알고리즘을 구현한 파이썬 라이브러리\n",
        "* 심플하고 일관성 있는 API, 유용한 온라인 문서, 풍부한 예제\n",
        "* 머신러닝을 위한 쉽고 효율적인 개발 라이브러리 제공\n",
        "* 다양한 머신러닝 관련 알고리즘과 개발을 위한 프레임워크와 API 제공\n",
        "* 많은 사람들이 사용하며 다양한 환경에서 검증된 라이브러리\n",
        "\n"
      ],
      "metadata": {
        "id": "cCTrUBg4LLD2"
      }
    },
    {
      "cell_type": "markdown",
      "source": [
        "## scikit-learn 주요 모듈"
      ],
      "metadata": {
        "id": "cqrNPzcOLkYb"
      }
    },
    {
      "cell_type": "markdown",
      "source": [
        "| 모듈 | 설명 |\n",
        "|------|------|\n",
        "| `sklearn.datasets` | 내장된 예제 데이터 세트 |\n",
        "| `sklearn.preprocessing` | 다양한 데이터 전처리 기능 제공 (변환, 정규화, 스케일링 등) |\n",
        "| `sklearn.feature_selection` | 특징(feature)를 선택할 수 있는 기능 제공 | \n",
        "| `sklearn.feature_extraction` | 특징(feature) 추출에 사용 |\n",
        "| `sklearn.decomposition` | 차원 축소 관련 알고리즘 지원 (PCA, NMF, Truncated SVD 등)\n",
        "| `sklearn.model_selection` | 교차 검증을 위해 데이터를 학습/테스트용으로 분리, 최적 파라미터를 추출하는 API 제공 (GridSearch 등)\n",
        "| `sklearn.metrics` | 분류, 회귀, 클러스터링, Pairwise에 대한 다양한 성능 측정 방법 제공 (Accuracy, Precision, Recall, ROC-AUC, RMSE 등) |\n",
        "| `sklearn.pipeline` | 특징 처리 등의 변환과 ML 알고리즘 학습, 예측 등을 묶어서 실행할 수 있는 유틸리티 제공 |\n",
        "| `sklearn.linear_model` | 선형 회귀, 릿지(Ridge), 라쏘(Lasso), 로지스틱 회귀 등 회귀 관련 알고리즘과 SGD(Stochastic Gradient Descent) 알고리즘 제공 |\n",
        "| `sklearn.svm` | 서포트 벡터 머신 알고리즘 제공 |\n",
        "| `sklearn.neighbors` | 최근접 이웃 알고리즘 제공 (k-NN 등)\n",
        "| `sklearn.naive_bayes` | 나이브 베이즈 알고리즘 제공 (가우시안 NB, 다항 분포 NB 등) |\n",
        "| `sklearn.tree` | 의사 결정 트리 알고리즘 제공 |\n",
        "| `sklearn.ensemble` | 앙상블 알고리즘 제공 (Random Forest, AdaBoost, GradientBoost 등) |\n",
        "| `sklearn.cluster` | 비지도 클러스터링 알고리즘 제공 (k-Means, 계층형 클러스터링, DBSCAN 등)"
      ],
      "metadata": {
        "id": "rsRwLI4oLhS5"
      }
    },
    {
      "cell_type": "markdown",
      "source": [
        "## `estimator` API\n",
        "\n",
        "* 일관성: 모든 객체는 일관된 문서를 갖춘 제한된 메서드 집합에서 비롯된 공통 인터페이스 공유\n",
        "* 검사(inspection): 모든 지정된 파라미터 값은 공개 속성으로 노출\n",
        "* 제한된 객체 계층 구조\n",
        "  + 알고리즘만 파이썬 클래스에 의해 표현\n",
        "  + 데이터 세트는 표준 포맷(NumPy 배열, Pandas DataFrame, Scipy 희소 행렬)으로 표현\n",
        "  + 매개변수명은 표준 파이썬 문자열 사용\n",
        "* 구성: 많은 머신러닝 작업은 기본 알고리즘의 시퀀스로 나타낼 수 있으며, Scikit-Learn은 가능한 곳이라면 어디서든 이 방식을 사용\n",
        "* 합리적인 기본값: 모델이 사용자 지정 파라미터를 필요로 할 때 라이브러리가 적절한 기본값을 정의"
      ],
      "metadata": {
        "id": "qqrw3Dy1L1Cm"
      }
    },
    {
      "cell_type": "markdown",
      "source": [
        "### API 사용 방법\n",
        "\n",
        "1. Scikit-Learn으로부터 적절한 `estimator` 클래스를 임포트해서 모델의 클래스 선택\n",
        "2. 클래스를 원하는 값으로 인스턴스화해서 모델의 하이퍼파라미터 선택\n",
        "3. 데이터를 특징 배열과 대상 벡터로 배치\n",
        "4. 모델 인스턴스의 `fit()` 메서드를 호출해 모델을 데이터에 적합\n",
        "5. 모델을 새 데이터에 대해서 적용\n",
        "  + 지도 학습: 대체로 `predict()` 메서드를 사용해 알려지지 않은 데이터에 대한 레이블 예측\n",
        "  + 비지도 학습: 대체로 `transform()`이나 `predict()` 메서드를 사용해 데이터의 속성을 변환하거나 추론"
      ],
      "metadata": {
        "id": "Pb2HcGSPL1Ey"
      }
    },
    {
      "cell_type": "markdown",
      "source": [
        "![scikit-learn](https://scikit-learn.org/stable/_static/ml_map.png)"
      ],
      "metadata": {
        "id": "jTCfSfu3L1HG"
      }
    },
    {
      "cell_type": "markdown",
      "source": [
        "### API 사용 예제"
      ],
      "metadata": {
        "id": "geJbKlsXMQHR"
      }
    },
    {
      "cell_type": "code",
      "source": [
        "import numpy as np\n",
        "import matplotlib.pyplot as plt\n",
        "plt.style.use(['seaborn-whitegrid'])"
      ],
      "metadata": {
        "id": "Bzz-ikpg338G"
      },
      "execution_count": 1,
      "outputs": []
    },
    {
      "cell_type": "code",
      "source": [
        "x = 10 * np.random.rand(50)\n",
        "y = 2 * x + np.random.rand(50)\n",
        "plt.scatter(x, y);"
      ],
      "metadata": {
        "colab": {
          "base_uri": "https://localhost:8080/",
          "height": 262
        },
        "id": "buzMAFQ94Axw",
        "outputId": "96bc8287-d307-459a-b21d-6bf846a37447"
      },
      "execution_count": 2,
      "outputs": [
        {
          "output_type": "display_data",
          "data": {
            "text/plain": [
              "<Figure size 432x288 with 1 Axes>"
            ],
            "image/png": "[encoded data removed]"
          },
          "metadata": {
            "needs_background": "light"
          }
        }
      ]
    },
    {
      "cell_type": "code",
      "source": [
        "# 1. Scikit-Learn으로부터 적절한 estimator 클래스를 임포트해서 모델의 클래스 선택\n",
        "\n",
        "from sklearn.linear_model import LinearRegression"
      ],
      "metadata": {
        "id": "_-D_FJMdMP4j"
      },
      "execution_count": 3,
      "outputs": []
    },
    {
      "cell_type": "code",
      "source": [
        "# 2. 클래스를 원하는 값으로 인스턴스화해서 모델의 하이퍼파라미터 선택\n",
        "\n",
        "model = LinearRegression(fit_intercept=True)\n",
        "model\n",
        "\n",
        "# 기본 하이퍼파라미터\n",
        "# copy_X=True : 복제본을 사용할 것인지 설정\n",
        "# fit_intercept=True : 상수 형태의 값을 사용할 것이냐\n",
        "# n_jobs=None : 컴퓨터의 여러개 코어를 사용하여 병렬적으로 알고리즘을 처리할것이냐\n",
        "# normalize=False : 정규화가 되어있냐"
      ],
      "metadata": {
        "colab": {
          "base_uri": "https://localhost:8080/"
        },
        "id": "FKU7y6QR3fu9",
        "outputId": "2464afe2-dabf-46fa-f7a2-c923a398e8a0"
      },
      "execution_count": 4,
      "outputs": [
        {
          "output_type": "execute_result",
          "data": {
            "text/plain": [
              "LinearRegression()"
            ]
          },
          "metadata": {},
          "execution_count": 4
        }
      ]
    },
    {
      "cell_type": "code",
      "source": [
        "# 3. 데이터를 특징 배열과 대상 벡터로 배치\n",
        "\n",
        "X = x[:, np.newaxis]     # newaxis : 배열의 차원을 늘려줌. 크기가 다른 배열끼리도 계산 가능해짐\n",
        "X"
      ],
      "metadata": {
        "colab": {
          "base_uri": "https://localhost:8080/"
        },
        "id": "WqPTj9ra3fsy",
        "outputId": "1e81f5cc-8a50-4752-e398-b1c0c6acc159"
      },
      "execution_count": 5,
      "outputs": [
        {
          "output_type": "execute_result",
          "data": {
            "text/plain": [
              "array([[6.8336379 ],\n",
              "       [2.74019423],\n",
              "       [8.58254335],\n",
              "       [5.42263053],\n",
              "       [0.67001486],\n",
              "       [4.75381889],\n",
              "       [7.32779281],\n",
              "       [9.22517613],\n",
              "       [9.73479358],\n",
              "       [6.73485942],\n",
              "       [1.47968098],\n",
              "       [5.38141714],\n",
              "       [5.32046388],\n",
              "       [4.3269167 ],\n",
              "       [7.28171184],\n",
              "       [3.20870813],\n",
              "       [2.07223812],\n",
              "       [7.3725699 ],\n",
              "       [3.9568693 ],\n",
              "       [1.59691449],\n",
              "       [5.13017124],\n",
              "       [9.07447659],\n",
              "       [3.36404872],\n",
              "       [6.42825907],\n",
              "       [9.59684017],\n",
              "       [2.91820259],\n",
              "       [3.62298717],\n",
              "       [2.75649087],\n",
              "       [5.15270312],\n",
              "       [6.98514597],\n",
              "       [6.75790159],\n",
              "       [1.36899626],\n",
              "       [5.17145848],\n",
              "       [6.92000812],\n",
              "       [9.33010108],\n",
              "       [4.2724786 ],\n",
              "       [7.44651448],\n",
              "       [9.74512297],\n",
              "       [8.5018422 ],\n",
              "       [2.63046205],\n",
              "       [7.08067514],\n",
              "       [0.92335551],\n",
              "       [9.05126976],\n",
              "       [4.65676694],\n",
              "       [5.77577772],\n",
              "       [1.00502626],\n",
              "       [7.75857704],\n",
              "       [2.14452493],\n",
              "       [7.38969777],\n",
              "       [4.3563483 ]])"
            ]
          },
          "metadata": {},
          "execution_count": 5
        }
      ]
    },
    {
      "cell_type": "code",
      "source": [
        "# 4. 모델 인스턴스의 fit() 메서드를 호출해 모델을 데이터에 적합\n",
        "\n",
        "model.fit(X, y)"
      ],
      "metadata": {
        "colab": {
          "base_uri": "https://localhost:8080/"
        },
        "id": "tY8GEZnd3fqL",
        "outputId": "99109376-2b19-417c-8227-4b7c30ac59fb"
      },
      "execution_count": 6,
      "outputs": [
        {
          "output_type": "execute_result",
          "data": {
            "text/plain": [
              "LinearRegression()"
            ]
          },
          "metadata": {},
          "execution_count": 6
        }
      ]
    },
    {
      "cell_type": "code",
      "source": [
        "model.coef_"
      ],
      "metadata": {
        "id": "ME_VSd7eZXaf",
        "outputId": "6d7615a3-5963-42ad-ae05-dde83c25e1a0",
        "colab": {
          "base_uri": "https://localhost:8080/"
        }
      },
      "execution_count": 7,
      "outputs": [
        {
          "output_type": "execute_result",
          "data": {
            "text/plain": [
              "array([1.99893797])"
            ]
          },
          "metadata": {},
          "execution_count": 7
        }
      ]
    },
    {
      "cell_type": "code",
      "source": [
        "model.intercept_"
      ],
      "metadata": {
        "id": "JtaYpRAtZZKk",
        "outputId": "a2812a2a-f240-47fa-9648-8ac7cf08d1a6",
        "colab": {
          "base_uri": "https://localhost:8080/"
        }
      },
      "execution_count": 8,
      "outputs": [
        {
          "output_type": "execute_result",
          "data": {
            "text/plain": [
              "0.5022888047673959"
            ]
          },
          "metadata": {},
          "execution_count": 8
        }
      ]
    },
    {
      "cell_type": "code",
      "source": [
        "# 5. 모델을 새 데이터에 대해서 적용\n",
        "\n",
        "xfit = np.linspace(-1, 11)\n",
        "Xfit = xfit[:, np.newaxis]\n",
        "yfit = model.predict(Xfit)"
      ],
      "metadata": {
        "id": "Q59PzhUe3fnm"
      },
      "execution_count": 9,
      "outputs": []
    },
    {
      "cell_type": "code",
      "source": [
        "plt.scatter(x, y)\n",
        "plt.plot(xfit, yfit, '--r')"
      ],
      "metadata": {
        "colab": {
          "base_uri": "https://localhost:8080/",
          "height": 280
        },
        "id": "dk8UOWKY3fld",
        "outputId": "0d355848-1f56-40d3-f3d2-ec4d9061a0d2"
      },
      "execution_count": 10,
      "outputs": [
        {
          "output_type": "execute_result",
          "data": {
            "text/plain": [
              "[<matplotlib.lines.Line2D at 0x7f91aa23ef50>]"
            ]
          },
          "metadata": {},
          "execution_count": 10
        },
        {
          "output_type": "display_data",
          "data": {
            "text/plain": [
              "<Figure size 432x288 with 1 Axes>"
            ],
            "image/png": "[encoded data removed]"
          },
          "metadata": {
            "needs_background": "light"
          }
        }
      ]
    },
    {
      "cell_type": "markdown",
      "source": [
        "## 예제 데이터 세트"
      ],
      "metadata": {
        "id": "-zmWTKyFL1Jg"
      }
    },
    {
      "cell_type": "markdown",
      "source": [
        "### 분류 또는 회귀용 데이터 세트\n",
        "\n",
        "| API | 설명 |\n",
        "|-----|------|\n",
        "| `datasets.load_boston()` | 미국 보스턴의 집에 대한 특징과 가격 데이터 (회귀용) |\n",
        "| `datasets.load_breast_cancer()` | 위스콘신 유방암 특징들과 악성/음성 레이블 데이터 (분류용) |\n",
        "| `datasets.load_diabetes()` | 당뇨 데이터 (회귀용) |\n",
        "| `datasets.load_digits()` | 0에서 9까지 숫자 이미지 픽셀 데이터 (분류용) |\n",
        "| `datasets.load_iris()` | 붓꽃에 대한 특징을 가진 데이터 (분류용) |"
      ],
      "metadata": {
        "id": "V7uQy-LxMWHq"
      }
    },
    {
      "cell_type": "markdown",
      "source": [
        "### 온라인 데이터 세트\n",
        "\n",
        "* 데이터 크기가 커서 온라인에서 데이터를 다운로드 한 후에 불러오는 예제 데이터 세트\n",
        "\n",
        "| API | 설명 |\n",
        "|-----|------|\n",
        "| `fetch_california_housing()` | 캘리포니아 주택 가격 데이터 |\n",
        "| `fetch_covtype()` | 회귀 분석용 토지 조사 데이터 |\n",
        "| `fetch_20newsgroups()` | 뉴스 그룹 텍스트 데이터 |\n",
        "| `fetch_olivetti_faces()` | 얼굴 이미지 데이터 |\n",
        "| `fetch_lfw_people()` | 얼굴 이미지 데이터 |\n",
        "| `fetch_lfw_paris()` | 얼굴 이미지 데이터 |\n",
        "| `fetch_rcv1()` | 로이터 뉴스 말뭉치 데이터 |\n",
        "| `fetch_mldata()` | ML 웹사이트에서 다운로드 |"
      ],
      "metadata": {
        "id": "74UxzQJaL1LZ"
      }
    },
    {
      "cell_type": "markdown",
      "source": [
        "### 분류와 클러스터링을 위한 표본 데이터 생성\n",
        "\n",
        "| API | 설명 |\n",
        "|-----|------|\n",
        "| `datasets.make_classifications()` | 분류를 위한 데이터 세트 생성. 높은 상관도, 불필요한 속성 등의 노이즈를 고려한 데이터를 무작위로 생성 |\n",
        "| `datasets.make_blobs()` | 클러스터링을 위한 데이터 세트 생성. 군집 지정 개수에 따라 여러 가지 클러스터링을 위한 데이터 셋트를 무작위로 생성 |"
      ],
      "metadata": {
        "id": "PUdMSrrMMWA8"
      }
    },
    {
      "cell_type": "markdown",
      "source": [
        "### 예제 데이터 세트 구조\n",
        "\n",
        "* 일반적으로 딕셔너리 형태로 구성\n",
        "* data: 특징 데이터 세트\n",
        "* target: 분류용은 레이블 값, 회귀용은 숫자 결과값 데이터\n",
        "* target_names: 개별 레이블의 이름 (분류용)\n",
        "* feature_names: 특징 이름\n",
        "* DESCR: 데이터 세트에 대한 설명과 각 특징 설명"
      ],
      "metadata": {
        "id": "U_CvPSuVMWDQ"
      }
    },
    {
      "cell_type": "code",
      "source": [
        "from sklearn.datasets import load_diabetes\n",
        "\n",
        "diabetes = load_diabetes()\n",
        "print(diabetes.keys())"
      ],
      "metadata": {
        "id": "AfPGt03CMfXn",
        "colab": {
          "base_uri": "https://localhost:8080/"
        },
        "outputId": "eaa802f8-8357-46d0-c9b8-7d7d3122a41d"
      },
      "execution_count": 11,
      "outputs": [
        {
          "output_type": "stream",
          "name": "stdout",
          "text": [
            "dict_keys(['data', 'target', 'frame', 'DESCR', 'feature_names', 'data_filename', 'target_filename', 'data_module'])\n"
          ]
        }
      ]
    },
    {
      "cell_type": "code",
      "source": [
        "print(diabetes.data)    # feature"
      ],
      "metadata": {
        "id": "PByaOEEsMftb",
        "colab": {
          "base_uri": "https://localhost:8080/"
        },
        "outputId": "4d14b8dd-2e55-4634-9d8c-7b5fdfe6689e"
      },
      "execution_count": 12,
      "outputs": [
        {
          "output_type": "stream",
          "name": "stdout",
          "text": [
            "[[ 0.03807591  0.05068012  0.06169621 ... -0.00259226  0.01990842\n",
            "  -0.01764613]\n",
            " [-0.00188202 -0.04464164 -0.05147406 ... -0.03949338 -0.06832974\n",
            "  -0.09220405]\n",
            " [ 0.08529891  0.05068012  0.04445121 ... -0.00259226  0.00286377\n",
            "  -0.02593034]\n",
            " ...\n",
            " [ 0.04170844  0.05068012 -0.01590626 ... -0.01107952 -0.04687948\n",
            "   0.01549073]\n",
            " [-0.04547248 -0.04464164  0.03906215 ...  0.02655962  0.04452837\n",
            "  -0.02593034]\n",
            " [-0.04547248 -0.04464164 -0.0730303  ... -0.03949338 -0.00421986\n",
            "   0.00306441]]\n"
          ]
        }
      ]
    },
    {
      "cell_type": "code",
      "source": [
        "print(diabetes.target)    # target"
      ],
      "metadata": {
        "colab": {
          "base_uri": "https://localhost:8080/"
        },
        "id": "SdNDpm5bD6eM",
        "outputId": "2f625cc3-472d-4116-de73-f58abe2ab54f"
      },
      "execution_count": 13,
      "outputs": [
        {
          "output_type": "stream",
          "name": "stdout",
          "text": [
            "[151.  75. 141. 206. 135.  97. 138.  63. 110. 310. 101.  69. 179. 185.\n",
            " 118. 171. 166. 144.  97. 168.  68.  49.  68. 245. 184. 202. 137.  85.\n",
            " 131. 283. 129.  59. 341.  87.  65. 102. 265. 276. 252.  90. 100.  55.\n",
            "  61.  92. 259.  53. 190. 142.  75. 142. 155. 225.  59. 104. 182. 128.\n",
            "  52.  37. 170. 170.  61. 144.  52. 128.  71. 163. 150.  97. 160. 178.\n",
            "  48. 270. 202. 111.  85.  42. 170. 200. 252. 113. 143.  51.  52. 210.\n",
            "  65. 141.  55. 134.  42. 111.  98. 164.  48.  96.  90. 162. 150. 279.\n",
            "  92.  83. 128. 102. 302. 198.  95.  53. 134. 144. 232.  81. 104.  59.\n",
            " 246. 297. 258. 229. 275. 281. 179. 200. 200. 173. 180.  84. 121. 161.\n",
            "  99. 109. 115. 268. 274. 158. 107.  83. 103. 272.  85. 280. 336. 281.\n",
            " 118. 317. 235.  60. 174. 259. 178. 128.  96. 126. 288.  88. 292.  71.\n",
            " 197. 186.  25.  84.  96. 195.  53. 217. 172. 131. 214.  59.  70. 220.\n",
            " 268. 152.  47.  74. 295. 101. 151. 127. 237. 225.  81. 151. 107.  64.\n",
            " 138. 185. 265. 101. 137. 143. 141.  79. 292. 178.  91. 116.  86. 122.\n",
            "  72. 129. 142.  90. 158.  39. 196. 222. 277.  99. 196. 202. 155.  77.\n",
            " 191.  70.  73.  49.  65. 263. 248. 296. 214. 185.  78.  93. 252. 150.\n",
            "  77. 208.  77. 108. 160.  53. 220. 154. 259.  90. 246. 124.  67.  72.\n",
            " 257. 262. 275. 177.  71.  47. 187. 125.  78.  51. 258. 215. 303. 243.\n",
            "  91. 150. 310. 153. 346.  63.  89.  50.  39. 103. 308. 116. 145.  74.\n",
            "  45. 115. 264.  87. 202. 127. 182. 241.  66.  94. 283.  64. 102. 200.\n",
            " 265.  94. 230. 181. 156. 233.  60. 219.  80.  68. 332. 248.  84. 200.\n",
            "  55.  85.  89.  31. 129.  83. 275.  65. 198. 236. 253. 124.  44. 172.\n",
            " 114. 142. 109. 180. 144. 163. 147.  97. 220. 190. 109. 191. 122. 230.\n",
            " 242. 248. 249. 192. 131. 237.  78. 135. 244. 199. 270. 164.  72.  96.\n",
            " 306.  91. 214.  95. 216. 263. 178. 113. 200. 139. 139.  88. 148.  88.\n",
            " 243.  71.  77. 109. 272.  60.  54. 221.  90. 311. 281. 182. 321.  58.\n",
            " 262. 206. 233. 242. 123. 167.  63. 197.  71. 168. 140. 217. 121. 235.\n",
            " 245.  40.  52. 104. 132.  88.  69. 219.  72. 201. 110.  51. 277.  63.\n",
            " 118.  69. 273. 258.  43. 198. 242. 232. 175.  93. 168. 275. 293. 281.\n",
            "  72. 140. 189. 181. 209. 136. 261. 113. 131. 174. 257.  55.  84.  42.\n",
            " 146. 212. 233.  91. 111. 152. 120.  67. 310.  94. 183.  66. 173.  72.\n",
            "  49.  64.  48. 178. 104. 132. 220.  57.]\n"
          ]
        }
      ]
    },
    {
      "cell_type": "code",
      "source": [
        "print(diabetes.DESCR)"
      ],
      "metadata": {
        "colab": {
          "base_uri": "https://localhost:8080/"
        },
        "id": "Z1QlJdKwD6ay",
        "outputId": "21c7dad6-a852-46ac-c1c8-d17dc5f066d3"
      },
      "execution_count": 14,
      "outputs": [
        {
          "output_type": "stream",
          "name": "stdout",
          "text": [
            ".. _diabetes_dataset:\n",
            "\n",
            "Diabetes dataset\n",
            "----------------\n",
            "\n",
            "Ten baseline variables, age, sex, body mass index, average blood\n",
            "pressure, and six blood serum measurements were obtained for each of n =\n",
            "442 diabetes patients, as well as the response of interest, a\n",
            "quantitative measure of disease progression one year after baseline.\n",
            "\n",
            "**Data Set Characteristics:**\n",
            "\n",
            "  :Number of Instances: 442\n",
            "\n",
            "  :Number of Attributes: First 10 columns are numeric predictive values\n",
            "\n",
            "  :Target: Column 11 is a quantitative measure of disease progression one year after baseline\n",
            "\n",
            "  :Attribute Information:\n",
            "      - age     age in years\n",
            "      - sex\n",
            "      - bmi     body mass index\n",
            "      - bp      average blood pressure\n",
            "      - s1      tc, total serum cholesterol\n",
            "      - s2      ldl, low-density lipoproteins\n",
            "      - s3      hdl, high-density lipoproteins\n",
            "      - s4      tch, total cholesterol / HDL\n",
            "      - s5      ltg, possibly log of serum triglycerides level\n",
            "      - s6      glu, blood sugar level\n",
            "\n",
            "Note: Each of these 10 feature variables have been mean centered and scaled by the standard deviation times `n_samples` (i.e. the sum of squares of each column totals 1).\n",
            "\n",
            "Source URL:\n",
            "https://www4.stat.ncsu.edu/~boos/var.select/diabetes.html\n",
            "\n",
            "For more information see:\n",
            "Bradley Efron, Trevor Hastie, Iain Johnstone and Robert Tibshirani (2004) \"Least Angle Regression,\" Annals of Statistics (with discussion), 407-499.\n",
            "(https://web.stanford.edu/~hastie/Papers/LARS/LeastAngle_2002.pdf)\n"
          ]
        }
      ]
    },
    {
      "cell_type": "code",
      "source": [
        "print(diabetes.feature_names)"
      ],
      "metadata": {
        "colab": {
          "base_uri": "https://localhost:8080/"
        },
        "id": "DamZ3KeKD6XI",
        "outputId": "339cfbee-28b4-4a53-9b47-d353244b2f4a"
      },
      "execution_count": 15,
      "outputs": [
        {
          "output_type": "stream",
          "name": "stdout",
          "text": [
            "['age', 'sex', 'bmi', 'bp', 's1', 's2', 's3', 's4', 's5', 's6']\n"
          ]
        }
      ]
    },
    {
      "cell_type": "code",
      "source": [
        "print(diabetes.data_filename)\n",
        "print(diabetes.target_filename)"
      ],
      "metadata": {
        "colab": {
          "base_uri": "https://localhost:8080/"
        },
        "id": "fmdfQNffD6E0",
        "outputId": "2923b14f-e3c7-4fea-c12a-b6f5d610b2c9"
      },
      "execution_count": 16,
      "outputs": [
        {
          "output_type": "stream",
          "name": "stdout",
          "text": [
            "diabetes_data.csv.gz\n",
            "diabetes_target.csv.gz\n"
          ]
        }
      ]
    },
    {
      "cell_type": "markdown",
      "source": [
        "## `model_selection` 모듈\n",
        "\n",
        "* 학습용 데이터와 테스트 데이터로 분리\n",
        "* 교차 검증 분할 및 평가\n",
        "* Estimator의 하이퍼 파라미터 튜닝을 위한 다양한 함수와 클래스 제공"
      ],
      "metadata": {
        "id": "xZ5sN3cYMWFq"
      }
    },
    {
      "cell_type": "markdown",
      "source": [
        "### `train_test_split()`: 학습/테스트 데이터 세트 분리"
      ],
      "metadata": {
        "id": "FQL-eMi1MYae"
      }
    },
    {
      "cell_type": "code",
      "source": [
        "from sklearn.linear_model import LinearRegression\n",
        "from sklearn.model_selection import train_test_split\n",
        "from sklearn.datasets import load_diabetes\n",
        "# 여러개의 feature를 가지고 있을때 X\n",
        "diabetes = load_diabetes()\n",
        "X_train, X_test, y_train, y_test= train_test_split(diabetes.data, diabetes.target, test_size=0.3)\n",
        "\n",
        "model = LinearRegression()\n",
        "model.fit(X_train, y_train)\n",
        "\n",
        "print(\"학습 데이터 점수: {}\".format(model.score(X_train, y_train)))\n",
        "print(\"평가 데이터 점수: {}\".format(model.score(X_test, y_test)))"
      ],
      "metadata": {
        "id": "X4G1lAOdMXZ0",
        "colab": {
          "base_uri": "https://localhost:8080/"
        },
        "outputId": "6a00f9fc-41dd-472d-f121-8e323fbd350e"
      },
      "execution_count": 17,
      "outputs": [
        {
          "output_type": "stream",
          "name": "stdout",
          "text": [
            "학습 데이터 점수: 0.48749767288411916\n",
            "평가 데이터 점수: 0.5674792350050089\n"
          ]
        }
      ]
    },
    {
      "cell_type": "code",
      "source": [
        "import matplotlib.pyplot as plt\n",
        "\n",
        "predicted = model.predict(X_test)\n",
        "expected = y_test\n",
        "plt.figure(figsize=(8, 4))\n",
        "plt.scatter(expected, predicted)\n",
        "plt.plot([30, 350], [30, 350], '--r')\n",
        "plt.tight_layout()"
      ],
      "metadata": {
        "id": "3yQ_IN7SMlX6",
        "colab": {
          "base_uri": "https://localhost:8080/",
          "height": 297
        },
        "outputId": "d87edfa5-7f9c-48aa-d988-de273bb098cc"
      },
      "execution_count": 18,
      "outputs": [
        {
          "output_type": "display_data",
          "data": {
            "text/plain": [
              "<Figure size 576x288 with 1 Axes>"
            ],
            "image/png": "[encoded data removed]"
          },
          "metadata": {
            "needs_background": "light"
          }
        }
      ]
    },
    {
      "cell_type": "markdown",
      "source": [
        "### `cross_val_score()`: 교차 검증\n"
      ],
      "metadata": {
        "id": "CuYqM08rMmAW"
      }
    },
    {
      "cell_type": "code",
      "source": [
        "from sklearn.model_selection import cross_val_score, cross_validate\n",
        "\n",
        "# diabetes = load_diabetes()\n",
        "scores = cross_val_score(model, diabetes.data, diabetes.target, cv=5)\n",
        "\n",
        "print(\"교차 검증 정확도: {}\".format(scores))\n",
        "print(\"교차 검증 정확도: {} +/_ {}\".format(np.mean(scores), np.std(scores)))"
      ],
      "metadata": {
        "id": "yM_77IJDMqgG",
        "colab": {
          "base_uri": "https://localhost:8080/"
        },
        "outputId": "b393e943-ed59-49af-8dc3-490eb3edd6ad"
      },
      "execution_count": 19,
      "outputs": [
        {
          "output_type": "stream",
          "name": "stdout",
          "text": [
            "교차 검증 정확도: [0.42955643 0.52259828 0.4826784  0.42650827 0.55024923]\n",
            "교차 검증 정확도: 0.48231812211149394 +/_ 0.049266197765632194\n"
          ]
        }
      ]
    },
    {
      "cell_type": "markdown",
      "source": [
        "### `GridSearchCV`: 교차 검증과 최적 하이퍼 파라미터 찾기\n",
        "\n",
        "* 훈련 단계에서 학습한 파라미터에 영향을 받아서 최상의 파라미터를 찾는 일은 항상 어려운 문제\n",
        "* 다양한 모델의 훈련 과정을 자동화하고, 교차 검사를 사용해 최적 값을 제공하는 도구 필요"
      ],
      "metadata": {
        "id": "3LLmrNg5MmFT"
      }
    },
    {
      "cell_type": "code",
      "source": [
        "from sklearn.model_selection import GridSearchCV\n",
        "from sklearn.linear_model import Ridge\n",
        "import pandas as pd\n",
        "\n",
        "alpha = [0.001, 0.01, 0.1, 1, 10, 100, 1000]\n",
        "param_grid = dict(alpha=alpha)\n",
        "\n",
        "gs = GridSearchCV(estimator=Ridge(), param_grid=param_grid, cv=10)\n",
        "result = gs.fit(diabetes.data, diabetes.target)\n",
        "\n",
        "print(\"최적 점수: {}\".format(result.best_score_))\n",
        "print(\"최적 파라미터: {}\".format(result.best_params_))\n",
        "print(gs.best_estimator_)\n",
        "pd.DataFrame(result.cv_results_)"
      ],
      "metadata": {
        "id": "1QwhIOIKMqEM",
        "colab": {
          "base_uri": "https://localhost:8080/",
          "height": 510
        },
        "outputId": "5f74d163-0429-453f-b0d3-2df81dc7c6bb"
      },
      "execution_count": 20,
      "outputs": [
        {
          "output_type": "stream",
          "name": "stdout",
          "text": [
            "최적 점수: 0.4633240541517593\n",
            "최적 파라미터: {'alpha': 0.1}\n",
            "Ridge(alpha=0.1)\n"
          ]
        },
        {
          "output_type": "execute_result",
          "data": {
            "text/plain": [
              "   mean_fit_time  std_fit_time  mean_score_time  std_score_time param_alpha  \\\n",
              "0       0.000955      0.000422         0.000431        0.000093       0.001   \n",
              "1       0.001454      0.001488         0.000556        0.000075        0.01   \n",
              "2       0.000740      0.000096         0.000408        0.000093         0.1   \n",
              "3       0.000768      0.000137         0.000397        0.000081           1   \n",
              "4       0.000736      0.000084         0.000375        0.000028          10   \n",
              "5       0.000697      0.000059         0.000382        0.000044         100   \n",
              "6       0.000706      0.000081         0.000365        0.000021        1000   \n",
              "\n",
              "             params  split0_test_score  split1_test_score  split2_test_score  \\\n",
              "0  {'alpha': 0.001}           0.554415           0.233686           0.356799   \n",
              "1   {'alpha': 0.01}           0.546297           0.244132           0.368901   \n",
              "2    {'alpha': 0.1}           0.526550           0.244987           0.383530   \n",
              "3      {'alpha': 1}           0.421593           0.168442           0.358004   \n",
              "4     {'alpha': 10}           0.159386          -0.081177           0.152190   \n",
              "5    {'alpha': 100}           0.012468          -0.234480           0.013522   \n",
              "6   {'alpha': 1000}          -0.009602          -0.258118          -0.007849   \n",
              "\n",
              "   split3_test_score  split4_test_score  split5_test_score  split6_test_score  \\\n",
              "0           0.620259           0.267033           0.619397           0.419907   \n",
              "1           0.613732           0.271717           0.623089           0.426074   \n",
              "2           0.606594           0.286094           0.618033           0.431230   \n",
              "3           0.512608           0.284928           0.514264           0.388246   \n",
              "4           0.165690           0.119349           0.186933           0.158147   \n",
              "5          -0.012820           0.004838           0.022647           0.022028   \n",
              "6          -0.038479          -0.012933          -0.000932           0.001768   \n",
              "\n",
              "   split7_test_score  split8_test_score  split9_test_score  mean_test_score  \\\n",
              "0           0.433019           0.433431           0.684984         0.462293   \n",
              "1           0.424759           0.429484           0.680912         0.462910   \n",
              "2           0.441788           0.431968           0.662466         0.463324   \n",
              "3           0.484448           0.396502           0.525132         0.405417   \n",
              "4           0.203748           0.153627           0.189440         0.140733   \n",
              "5          -0.009908           0.015589           0.026427        -0.013969   \n",
              "6          -0.042679          -0.004652           0.002744        -0.037073   \n",
              "\n",
              "   std_test_score  rank_test_score  \n",
              "0        0.145848                3  \n",
              "1        0.141446                2  \n",
              "2        0.132681                1  \n",
              "3        0.108385                4  \n",
              "4        0.077298                5  \n",
              "5        0.074561                6  \n",
              "6        0.075191                7  "
            ],
            "text/html": [
              "\n",
              "  <div id=\"df-49b3b999-062b-47fb-bdfe-3aaa480e28bb\">\n",
              "    <div class=\"colab-df-container\">\n",
              "      <div>\n",
              "<style scoped>\n",
              "    .dataframe tbody tr th:only-of-type {\n",
              "        vertical-align: middle;\n",
              "    }\n",
              "\n",
              "    .dataframe tbody tr th {\n",
              "        vertical-align: top;\n",
              "    }\n",
              "\n",
              "    .dataframe thead th {\n",
              "        text-align: right;\n",
              "    }\n",
              "</style>\n",
              "<table border=\"1\" class=\"dataframe\">\n",
              "  <thead>\n",
              "    <tr style=\"text-align: right;\">\n",
              "      <th></th>\n",
              "      <th>mean_fit_time</th>\n",
              "      <th>std_fit_time</th>\n",
              "      <th>mean_score_time</th>\n",
              "      <th>std_score_time</th>\n",
              "      <th>param_alpha</th>\n",
              "      <th>params</th>\n",
              "      <th>split0_test_score</th>\n",
              "      <th>split1_test_score</th>\n",
              "      <th>split2_test_score</th>\n",
              "      <th>split3_test_score</th>\n",
              "      <th>split4_test_score</th>\n",
              "      <th>split5_test_score</th>\n",
              "      <th>split6_test_score</th>\n",
              "      <th>split7_test_score</th>\n",
              "      <th>split8_test_score</th>\n",
              "      <th>split9_test_score</th>\n",
              "      <th>mean_test_score</th>\n",
              "      <th>std_test_score</th>\n",
              "      <th>rank_test_score</th>\n",
              "    </tr>\n",
              "  </thead>\n",
              "  <tbody>\n",
              "    <tr>\n",
              "      <th>0</th>\n",
              "      <td>0.000955</td>\n",
              "      <td>0.000422</td>\n",
              "      <td>0.000431</td>\n",
              "      <td>0.000093</td>\n",
              "      <td>0.001</td>\n",
              "      <td>{'alpha': 0.001}</td>\n",
              "      <td>0.554415</td>\n",
              "      <td>0.233686</td>\n",
              "      <td>0.356799</td>\n",
              "      <td>0.620259</td>\n",
              "      <td>0.267033</td>\n",
              "      <td>0.619397</td>\n",
              "      <td>0.419907</td>\n",
              "      <td>0.433019</td>\n",
              "      <td>0.433431</td>\n",
              "      <td>0.684984</td>\n",
              "      <td>0.462293</td>\n",
              "      <td>0.145848</td>\n",
              "      <td>3</td>\n",
              "    </tr>\n",
              "    <tr>\n",
              "      <th>1</th>\n",
              "      <td>0.001454</td>\n",
              "      <td>0.001488</td>\n",
              "      <td>0.000556</td>\n",
              "      <td>0.000075</td>\n",
              "      <td>0.01</td>\n",
              "      <td>{'alpha': 0.01}</td>\n",
              "      <td>0.546297</td>\n",
              "      <td>0.244132</td>\n",
              "      <td>0.368901</td>\n",
              "      <td>0.613732</td>\n",
              "      <td>0.271717</td>\n",
              "      <td>0.623089</td>\n",
              "      <td>0.426074</td>\n",
              "      <td>0.424759</td>\n",
              "      <td>0.429484</td>\n",
              "      <td>0.680912</td>\n",
              "      <td>0.462910</td>\n",
              "      <td>0.141446</td>\n",
              "      <td>2</td>\n",
              "    </tr>\n",
              "    <tr>\n",
              "      <th>2</th>\n",
              "      <td>0.000740</td>\n",
              "      <td>0.000096</td>\n",
              "      <td>0.000408</td>\n",
              "      <td>0.000093</td>\n",
              "      <td>0.1</td>\n",
              "      <td>{'alpha': 0.1}</td>\n",
              "      <td>0.526550</td>\n",
              "      <td>0.244987</td>\n",
              "      <td>0.383530</td>\n",
              "      <td>0.606594</td>\n",
              "      <td>0.286094</td>\n",
              "      <td>0.618033</td>\n",
              "      <td>0.431230</td>\n",
              "      <td>0.441788</td>\n",
              "      <td>0.431968</td>\n",
              "      <td>0.662466</td>\n",
              "      <td>0.463324</td>\n",
              "      <td>0.132681</td>\n",
              "      <td>1</td>\n",
              "    </tr>\n",
              "    <tr>\n",
              "      <th>3</th>\n",
              "      <td>0.000768</td>\n",
              "      <td>0.000137</td>\n",
              "      <td>0.000397</td>\n",
              "      <td>0.000081</td>\n",
              "      <td>1</td>\n",
              "      <td>{'alpha': 1}</td>\n",
              "      <td>0.421593</td>\n",
              "      <td>0.168442</td>\n",
              "      <td>0.358004</td>\n",
              "      <td>0.512608</td>\n",
              "      <td>0.284928</td>\n",
              "      <td>0.514264</td>\n",
              "      <td>0.388246</td>\n",
              "      <td>0.484448</td>\n",
              "      <td>0.396502</td>\n",
              "      <td>0.525132</td>\n",
              "      <td>0.405417</td>\n",
              "      <td>0.108385</td>\n",
              "      <td>4</td>\n",
              "    </tr>\n",
              "    <tr>\n",
              "      <th>4</th>\n",
              "      <td>0.000736</td>\n",
              "      <td>0.000084</td>\n",
              "      <td>0.000375</td>\n",
              "      <td>0.000028</td>\n",
              "      <td>10</td>\n",
              "      <td>{'alpha': 10}</td>\n",
              "      <td>0.159386</td>\n",
              "      <td>-0.081177</td>\n",
              "      <td>0.152190</td>\n",
              "      <td>0.165690</td>\n",
              "      <td>0.119349</td>\n",
              "      <td>0.186933</td>\n",
              "      <td>0.158147</td>\n",
              "      <td>0.203748</td>\n",
              "      <td>0.153627</td>\n",
              "      <td>0.189440</td>\n",
              "      <td>0.140733</td>\n",
              "      <td>0.077298</td>\n",
              "      <td>5</td>\n",
              "    </tr>\n",
              "    <tr>\n",
              "      <th>5</th>\n",
              "      <td>0.000697</td>\n",
              "      <td>0.000059</td>\n",
              "      <td>0.000382</td>\n",
              "      <td>0.000044</td>\n",
              "      <td>100</td>\n",
              "      <td>{'alpha': 100}</td>\n",
              "      <td>0.012468</td>\n",
              "      <td>-0.234480</td>\n",
              "      <td>0.013522</td>\n",
              "      <td>-0.012820</td>\n",
              "      <td>0.004838</td>\n",
              "      <td>0.022647</td>\n",
              "      <td>0.022028</td>\n",
              "      <td>-0.009908</td>\n",
              "      <td>0.015589</td>\n",
              "      <td>0.026427</td>\n",
              "      <td>-0.013969</td>\n",
              "      <td>0.074561</td>\n",
              "      <td>6</td>\n",
              "    </tr>\n",
              "    <tr>\n",
              "      <th>6</th>\n",
              "      <td>0.000706</td>\n",
              "      <td>0.000081</td>\n",
              "      <td>0.000365</td>\n",
              "      <td>0.000021</td>\n",
              "      <td>1000</td>\n",
              "      <td>{'alpha': 1000}</td>\n",
              "      <td>-0.009602</td>\n",
              "      <td>-0.258118</td>\n",
              "      <td>-0.007849</td>\n",
              "      <td>-0.038479</td>\n",
              "      <td>-0.012933</td>\n",
              "      <td>-0.000932</td>\n",
              "      <td>0.001768</td>\n",
              "      <td>-0.042679</td>\n",
              "      <td>-0.004652</td>\n",
              "      <td>0.002744</td>\n",
              "      <td>-0.037073</td>\n",
              "      <td>0.075191</td>\n",
              "      <td>7</td>\n",
              "    </tr>\n",
              "  </tbody>\n",
              "</table>\n",
              "</div>\n",
              "      <button class=\"colab-df-convert\" onclick=\"convertToInteractive('df-49b3b999-062b-47fb-bdfe-3aaa480e28bb')\"\n",
              "              title=\"Convert this dataframe to an interactive table.\"\n",
              "              style=\"display:none;\">\n",
              "        \n",
              "  <svg xmlns=\"http://www.w3.org/2000/svg\" height=\"24px\"viewBox=\"0 0 24 24\"\n",
              "       width=\"24px\">\n",
              "    <path d=\"M0 0h24v24H0V0z\" fill=\"none\"/>\n",
              "    <path d=\"M18.56 5.44l.94 2.06.94-2.06 2.06-.94-2.06-.94-.94-2.06-.94 2.06-2.06.94zm-11 1L8.5 8.5l.94-2.06 2.06-.94-2.06-.94L8.5 2.5l-.94 2.06-2.06.94zm10 10l.94 2.06.94-2.06 2.06-.94-2.06-.94-.94-2.06-.94 2.06-2.06.94z\"/><path d=\"M17.41 7.96l-1.37-1.37c-.4-.4-.92-.59-1.43-.59-.52 0-1.04.2-1.43.59L10.3 9.45l-7.72 7.72c-.78.78-.78 2.05 0 2.83L4 21.41c.39.39.9.59 1.41.59.51 0 1.02-.2 1.41-.59l7.78-7.78 2.81-2.81c.8-.78.8-2.07 0-2.86zM5.41 20L4 18.59l7.72-7.72 1.47 1.35L5.41 20z\"/>\n",
              "  </svg>\n",
              "      </button>\n",
              "      \n",
              "  <style>\n",
              "    .colab-df-container {\n",
              "      display:flex;\n",
              "      flex-wrap:wrap;\n",
              "      gap: 12px;\n",
              "    }\n",
              "\n",
              "    .colab-df-convert {\n",
              "      background-color: #E8F0FE;\n",
              "      border: none;\n",
              "      border-radius: 50%;\n",
              "      cursor: pointer;\n",
              "      display: none;\n",
              "      fill: #1967D2;\n",
              "      height: 32px;\n",
              "      padding: 0 0 0 0;\n",
              "      width: 32px;\n",
              "    }\n",
              "\n",
              "    .colab-df-convert:hover {\n",
              "      background-color: #E2EBFA;\n",
              "      box-shadow: 0px 1px 2px rgba(60, 64, 67, 0.3), 0px 1px 3px 1px rgba(60, 64, 67, 0.15);\n",
              "      fill: #174EA6;\n",
              "    }\n",
              "\n",
              "    [theme=dark] .colab-df-convert {\n",
              "      background-color: #3B4455;\n",
              "      fill: #D2E3FC;\n",
              "    }\n",
              "\n",
              "    [theme=dark] .colab-df-convert:hover {\n",
              "      background-color: #434B5C;\n",
              "      box-shadow: 0px 1px 3px 1px rgba(0, 0, 0, 0.15);\n",
              "      filter: drop-shadow(0px 1px 2px rgba(0, 0, 0, 0.3));\n",
              "      fill: #FFFFFF;\n",
              "    }\n",
              "  </style>\n",
              "\n",
              "      <script>\n",
              "        const buttonEl =\n",
              "          document.querySelector('#df-49b3b999-062b-47fb-bdfe-3aaa480e28bb button.colab-df-convert');\n",
              "        buttonEl.style.display =\n",
              "          google.colab.kernel.accessAllowed ? 'block' : 'none';\n",
              "\n",
              "        async function convertToInteractive(key) {\n",
              "          const element = document.querySelector('#df-49b3b999-062b-47fb-bdfe-3aaa480e28bb');\n",
              "          const dataTable =\n",
              "            await google.colab.kernel.invokeFunction('convertToInteractive',\n",
              "                                                     [key], {});\n",
              "          if (!dataTable) return;\n",
              "\n",
              "          const docLinkHtml = 'Like what you see? Visit the ' +\n",
              "            '<a target=\"_blank\" href=https://colab.research.google.com/notebooks/data_table.ipynb>data table notebook</a>'\n",
              "            + ' to learn more about interactive tables.';\n",
              "          element.innerHTML = '';\n",
              "          dataTable['output_type'] = 'display_data';\n",
              "          await google.colab.output.renderOutput(dataTable, element);\n",
              "          const docLink = document.createElement('div');\n",
              "          docLink.innerHTML = docLinkHtml;\n",
              "          element.appendChild(docLink);\n",
              "        }\n",
              "      </script>\n",
              "    </div>\n",
              "  </div>\n",
              "  "
            ]
          },
          "metadata": {},
          "execution_count": 20
        }
      ]
    },
    {
      "cell_type": "markdown",
      "source": [
        "\n",
        "\n",
        "*   multiprocessing을 이용한 GridSearchCV\n",
        "\n"
      ],
      "metadata": {
        "id": "hMj5ORTdoXNr"
      }
    },
    {
      "cell_type": "code",
      "source": [
        "import multiprocessing\n",
        "from sklearn.datasets import load_iris\n",
        "from sklearn.linear_model import LogisticRegression\n",
        "\n",
        "iris = load_iris()\n",
        "\n",
        "param_grid = [\n",
        "              {\n",
        "                  'penalty':['l1', 'l2'],\n",
        "                  # 'C': [0.5, 1.0, 1.5, 1.8, 2.0, 2.4] } ]\n",
        "                  'C': [1.5, 2.0, 2.5, 2.8, 3.0, 3.4] } ]\n",
        "gs = GridSearchCV(estimator=LogisticRegression(), param_grid=param_grid, \n",
        "                  scoring='accuracy', cv=10, n_jobs=multiprocessing.cpu_count())\n",
        "result = gs.fit(iris.data, iris.target)\n",
        "\n",
        "print(\"최적 점수: {}\".format(result.best_score_))\n",
        "print(\"최적 파라미터: {}\".format(result.best_params_))\n",
        "print(gs.best_estimator_)\n",
        "pd.DataFrame(result.cv_results_)"
      ],
      "metadata": {
        "id": "GZQ0bY1JMtIY",
        "colab": {
          "base_uri": "https://localhost:8080/",
          "height": 1000
        },
        "outputId": "fb0916e2-ec5f-40a7-d460-b52552bd4c0b"
      },
      "execution_count": 25,
      "outputs": [
        {
          "output_type": "stream",
          "name": "stdout",
          "text": [
            "최적 점수: 0.9800000000000001\n",
            "최적 파라미터: {'C': 2.5, 'penalty': 'l2'}\n",
            "LogisticRegression(C=2.5)\n"
          ]
        },
        {
          "output_type": "stream",
          "name": "stderr",
          "text": [
            "/usr/local/lib/python3.7/dist-packages/sklearn/model_selection/_validation.py:372: FitFailedWarning: \n",
            "60 fits failed out of a total of 120.\n",
            "The score on these train-test partitions for these parameters will be set to nan.\n",
            "If these failures are not expected, you can try to debug them by setting error_score='raise'.\n",
            "\n",
            "Below are more details about the failures:\n",
            "--------------------------------------------------------------------------------\n",
            "60 fits failed with the following error:\n",
            "Traceback (most recent call last):\n",
            "  File \"/usr/local/lib/python3.7/dist-packages/sklearn/model_selection/_validation.py\", line 680, in _fit_and_score\n",
            "    estimator.fit(X_train, y_train, **fit_params)\n",
            "  File \"/usr/local/lib/python3.7/dist-packages/sklearn/linear_model/_logistic.py\", line 1461, in fit\n",
            "    solver = _check_solver(self.solver, self.penalty, self.dual)\n",
            "  File \"/usr/local/lib/python3.7/dist-packages/sklearn/linear_model/_logistic.py\", line 449, in _check_solver\n",
            "    % (solver, penalty)\n",
            "ValueError: Solver lbfgs supports only 'l2' or 'none' penalties, got l1 penalty.\n",
            "\n",
            "  warnings.warn(some_fits_failed_message, FitFailedWarning)\n",
            "/usr/local/lib/python3.7/dist-packages/sklearn/model_selection/_search.py:972: UserWarning: One or more of the test scores are non-finite: [       nan 0.97333333        nan 0.97333333        nan 0.98\n",
            "        nan 0.98              nan 0.98              nan 0.98      ]\n",
            "  category=UserWarning,\n",
            "/usr/local/lib/python3.7/dist-packages/sklearn/linear_model/_logistic.py:818: ConvergenceWarning: lbfgs failed to converge (status=1):\n",
            "STOP: TOTAL NO. of ITERATIONS REACHED LIMIT.\n",
            "\n",
            "Increase the number of iterations (max_iter) or scale the data as shown in:\n",
            "    https://scikit-learn.org/stable/modules/preprocessing.html\n",
            "Please also refer to the documentation for alternative solver options:\n",
            "    https://scikit-learn.org/stable/modules/linear_model.html#logistic-regression\n",
            "  extra_warning_msg=_LOGISTIC_SOLVER_CONVERGENCE_MSG,\n"
          ]
        },
        {
          "output_type": "execute_result",
          "data": {
            "text/plain": [
              "    mean_fit_time  std_fit_time  mean_score_time  std_score_time param_C  \\\n",
              "0        0.000309      0.000058         0.000000        0.000000     1.5   \n",
              "1        0.080571      0.023248         0.002203        0.003247     1.5   \n",
              "2        0.001008      0.002259         0.000000        0.000000     2.0   \n",
              "3        0.081181      0.012156         0.000564        0.000024     2.0   \n",
              "4        0.000291      0.000064         0.000000        0.000000     2.5   \n",
              "5        0.082380      0.021950         0.000590        0.000050     2.5   \n",
              "6        0.000268      0.000041         0.000000        0.000000     2.8   \n",
              "7        0.081414      0.022645         0.001285        0.002098     2.8   \n",
              "8        0.000228      0.000020         0.000000        0.000000     3.0   \n",
              "9        0.079078      0.023046         0.001380        0.002441     3.0   \n",
              "10       0.000271      0.000041         0.000000        0.000000     3.4   \n",
              "11       0.073366      0.011843         0.001096        0.001581     3.4   \n",
              "\n",
              "   param_penalty                       params  split0_test_score  \\\n",
              "0             l1  {'C': 1.5, 'penalty': 'l1'}                NaN   \n",
              "1             l2  {'C': 1.5, 'penalty': 'l2'}                1.0   \n",
              "2             l1  {'C': 2.0, 'penalty': 'l1'}                NaN   \n",
              "3             l2  {'C': 2.0, 'penalty': 'l2'}                1.0   \n",
              "4             l1  {'C': 2.5, 'penalty': 'l1'}                NaN   \n",
              "5             l2  {'C': 2.5, 'penalty': 'l2'}                1.0   \n",
              "6             l1  {'C': 2.8, 'penalty': 'l1'}                NaN   \n",
              "7             l2  {'C': 2.8, 'penalty': 'l2'}                1.0   \n",
              "8             l1  {'C': 3.0, 'penalty': 'l1'}                NaN   \n",
              "9             l2  {'C': 3.0, 'penalty': 'l2'}                1.0   \n",
              "10            l1  {'C': 3.4, 'penalty': 'l1'}                NaN   \n",
              "11            l2  {'C': 3.4, 'penalty': 'l2'}                1.0   \n",
              "\n",
              "    split1_test_score  split2_test_score  split3_test_score  \\\n",
              "0                 NaN                NaN                NaN   \n",
              "1            0.933333                1.0                1.0   \n",
              "2                 NaN                NaN                NaN   \n",
              "3            0.933333                1.0                1.0   \n",
              "4                 NaN                NaN                NaN   \n",
              "5            0.933333                1.0                1.0   \n",
              "6                 NaN                NaN                NaN   \n",
              "7            0.933333                1.0                1.0   \n",
              "8                 NaN                NaN                NaN   \n",
              "9            0.933333                1.0                1.0   \n",
              "10                NaN                NaN                NaN   \n",
              "11           0.933333                1.0                1.0   \n",
              "\n",
              "    split4_test_score  split5_test_score  split6_test_score  \\\n",
              "0                 NaN                NaN                NaN   \n",
              "1            0.933333           0.933333           0.933333   \n",
              "2                 NaN                NaN                NaN   \n",
              "3            0.933333           0.933333           0.933333   \n",
              "4                 NaN                NaN                NaN   \n",
              "5            0.933333           1.000000           0.933333   \n",
              "6                 NaN                NaN                NaN   \n",
              "7            0.933333           1.000000           0.933333   \n",
              "8                 NaN                NaN                NaN   \n",
              "9            0.933333           1.000000           0.933333   \n",
              "10                NaN                NaN                NaN   \n",
              "11           0.933333           1.000000           0.933333   \n",
              "\n",
              "    split7_test_score  split8_test_score  split9_test_score  mean_test_score  \\\n",
              "0                 NaN                NaN                NaN              NaN   \n",
              "1                 1.0                1.0                1.0         0.973333   \n",
              "2                 NaN                NaN                NaN              NaN   \n",
              "3                 1.0                1.0                1.0         0.973333   \n",
              "4                 NaN                NaN                NaN              NaN   \n",
              "5                 1.0                1.0                1.0         0.980000   \n",
              "6                 NaN                NaN                NaN              NaN   \n",
              "7                 1.0                1.0                1.0         0.980000   \n",
              "8                 NaN                NaN                NaN              NaN   \n",
              "9                 1.0                1.0                1.0         0.980000   \n",
              "10                NaN                NaN                NaN              NaN   \n",
              "11                1.0                1.0                1.0         0.980000   \n",
              "\n",
              "    std_test_score  rank_test_score  \n",
              "0              NaN                7  \n",
              "1         0.032660                5  \n",
              "2              NaN                8  \n",
              "3         0.032660                5  \n",
              "4              NaN                9  \n",
              "5         0.030551                1  \n",
              "6              NaN               10  \n",
              "7         0.030551                1  \n",
              "8              NaN               11  \n",
              "9         0.030551                1  \n",
              "10             NaN               12  \n",
              "11        0.030551                1  "
            ],
            "text/html": [
              "\n",
              "  <div id=\"df-399837c6-2e5a-4269-9492-628151c791ff\">\n",
              "    <div class=\"colab-df-container\">\n",
              "      <div>\n",
              "<style scoped>\n",
              "    .dataframe tbody tr th:only-of-type {\n",
              "        vertical-align: middle;\n",
              "    }\n",
              "\n",
              "    .dataframe tbody tr th {\n",
              "        vertical-align: top;\n",
              "    }\n",
              "\n",
              "    .dataframe thead th {\n",
              "        text-align: right;\n",
              "    }\n",
              "</style>\n",
              "<table border=\"1\" class=\"dataframe\">\n",
              "  <thead>\n",
              "    <tr style=\"text-align: right;\">\n",
              "      <th></th>\n",
              "      <th>mean_fit_time</th>\n",
              "      <th>std_fit_time</th>\n",
              "      <th>mean_score_time</th>\n",
              "      <th>std_score_time</th>\n",
              "      <th>param_C</th>\n",
              "      <th>param_penalty</th>\n",
              "      <th>params</th>\n",
              "      <th>split0_test_score</th>\n",
              "      <th>split1_test_score</th>\n",
              "      <th>split2_test_score</th>\n",
              "      <th>split3_test_score</th>\n",
              "      <th>split4_test_score</th>\n",
              "      <th>split5_test_score</th>\n",
              "      <th>split6_test_score</th>\n",
              "      <th>split7_test_score</th>\n",
              "      <th>split8_test_score</th>\n",
              "      <th>split9_test_score</th>\n",
              "      <th>mean_test_score</th>\n",
              "      <th>std_test_score</th>\n",
              "      <th>rank_test_score</th>\n",
              "    </tr>\n",
              "  </thead>\n",
              "  <tbody>\n",
              "    <tr>\n",
              "      <th>0</th>\n",
              "      <td>0.000309</td>\n",
              "      <td>0.000058</td>\n",
              "      <td>0.000000</td>\n",
              "      <td>0.000000</td>\n",
              "      <td>1.5</td>\n",
              "      <td>l1</td>\n",
              "      <td>{'C': 1.5, 'penalty': 'l1'}</td>\n",
              "      <td>NaN</td>\n",
              "      <td>NaN</td>\n",
              "      <td>NaN</td>\n",
              "      <td>NaN</td>\n",
              "      <td>NaN</td>\n",
              "      <td>NaN</td>\n",
              "      <td>NaN</td>\n",
              "      <td>NaN</td>\n",
              "      <td>NaN</td>\n",
              "      <td>NaN</td>\n",
              "      <td>NaN</td>\n",
              "      <td>NaN</td>\n",
              "      <td>7</td>\n",
              "    </tr>\n",
              "    <tr>\n",
              "      <th>1</th>\n",
              "      <td>0.080571</td>\n",
              "      <td>0.023248</td>\n",
              "      <td>0.002203</td>\n",
              "      <td>0.003247</td>\n",
              "      <td>1.5</td>\n",
              "      <td>l2</td>\n",
              "      <td>{'C': 1.5, 'penalty': 'l2'}</td>\n",
              "      <td>1.0</td>\n",
              "      <td>0.933333</td>\n",
              "      <td>1.0</td>\n",
              "      <td>1.0</td>\n",
              "      <td>0.933333</td>\n",
              "      <td>0.933333</td>\n",
              "      <td>0.933333</td>\n",
              "      <td>1.0</td>\n",
              "      <td>1.0</td>\n",
              "      <td>1.0</td>\n",
              "      <td>0.973333</td>\n",
              "      <td>0.032660</td>\n",
              "      <td>5</td>\n",
              "    </tr>\n",
              "    <tr>\n",
              "      <th>2</th>\n",
              "      <td>0.001008</td>\n",
              "      <td>0.002259</td>\n",
              "      <td>0.000000</td>\n",
              "      <td>0.000000</td>\n",
              "      <td>2.0</td>\n",
              "      <td>l1</td>\n",
              "      <td>{'C': 2.0, 'penalty': 'l1'}</td>\n",
              "      <td>NaN</td>\n",
              "      <td>NaN</td>\n",
              "      <td>NaN</td>\n",
              "      <td>NaN</td>\n",
              "      <td>NaN</td>\n",
              "      <td>NaN</td>\n",
              "      <td>NaN</td>\n",
              "      <td>NaN</td>\n",
              "      <td>NaN</td>\n",
              "      <td>NaN</td>\n",
              "      <td>NaN</td>\n",
              "      <td>NaN</td>\n",
              "      <td>8</td>\n",
              "    </tr>\n",
              "    <tr>\n",
              "      <th>3</th>\n",
              "      <td>0.081181</td>\n",
              "      <td>0.012156</td>\n",
              "      <td>0.000564</td>\n",
              "      <td>0.000024</td>\n",
              "      <td>2.0</td>\n",
              "      <td>l2</td>\n",
              "      <td>{'C': 2.0, 'penalty': 'l2'}</td>\n",
              "      <td>1.0</td>\n",
              "      <td>0.933333</td>\n",
              "      <td>1.0</td>\n",
              "      <td>1.0</td>\n",
              "      <td>0.933333</td>\n",
              "      <td>0.933333</td>\n",
              "      <td>0.933333</td>\n",
              "      <td>1.0</td>\n",
              "      <td>1.0</td>\n",
              "      <td>1.0</td>\n",
              "      <td>0.973333</td>\n",
              "      <td>0.032660</td>\n",
              "      <td>5</td>\n",
              "    </tr>\n",
              "    <tr>\n",
              "      <th>4</th>\n",
              "      <td>0.000291</td>\n",
              "      <td>0.000064</td>\n",
              "      <td>0.000000</td>\n",
              "      <td>0.000000</td>\n",
              "      <td>2.5</td>\n",
              "      <td>l1</td>\n",
              "      <td>{'C': 2.5, 'penalty': 'l1'}</td>\n",
              "      <td>NaN</td>\n",
              "      <td>NaN</td>\n",
              "      <td>NaN</td>\n",
              "      <td>NaN</td>\n",
              "      <td>NaN</td>\n",
              "      <td>NaN</td>\n",
              "      <td>NaN</td>\n",
              "      <td>NaN</td>\n",
              "      <td>NaN</td>\n",
              "      <td>NaN</td>\n",
              "      <td>NaN</td>\n",
              "      <td>NaN</td>\n",
              "      <td>9</td>\n",
              "    </tr>\n",
              "    <tr>\n",
              "      <th>5</th>\n",
              "      <td>0.082380</td>\n",
              "      <td>0.021950</td>\n",
              "      <td>0.000590</td>\n",
              "      <td>0.000050</td>\n",
              "      <td>2.5</td>\n",
              "      <td>l2</td>\n",
              "      <td>{'C': 2.5, 'penalty': 'l2'}</td>\n",
              "      <td>1.0</td>\n",
              "      <td>0.933333</td>\n",
              "      <td>1.0</td>\n",
              "      <td>1.0</td>\n",
              "      <td>0.933333</td>\n",
              "      <td>1.000000</td>\n",
              "      <td>0.933333</td>\n",
              "      <td>1.0</td>\n",
              "      <td>1.0</td>\n",
              "      <td>1.0</td>\n",
              "      <td>0.980000</td>\n",
              "      <td>0.030551</td>\n",
              "      <td>1</td>\n",
              "    </tr>\n",
              "    <tr>\n",
              "      <th>6</th>\n",
              "      <td>0.000268</td>\n",
              "      <td>0.000041</td>\n",
              "      <td>0.000000</td>\n",
              "      <td>0.000000</td>\n",
              "      <td>2.8</td>\n",
              "      <td>l1</td>\n",
              "      <td>{'C': 2.8, 'penalty': 'l1'}</td>\n",
              "      <td>NaN</td>\n",
              "      <td>NaN</td>\n",
              "      <td>NaN</td>\n",
              "      <td>NaN</td>\n",
              "      <td>NaN</td>\n",
              "      <td>NaN</td>\n",
              "      <td>NaN</td>\n",
              "      <td>NaN</td>\n",
              "      <td>NaN</td>\n",
              "      <td>NaN</td>\n",
              "      <td>NaN</td>\n",
              "      <td>NaN</td>\n",
              "      <td>10</td>\n",
              "    </tr>\n",
              "    <tr>\n",
              "      <th>7</th>\n",
              "      <td>0.081414</td>\n",
              "      <td>0.022645</td>\n",
              "      <td>0.001285</td>\n",
              "      <td>0.002098</td>\n",
              "      <td>2.8</td>\n",
              "      <td>l2</td>\n",
              "      <td>{'C': 2.8, 'penalty': 'l2'}</td>\n",
              "      <td>1.0</td>\n",
              "      <td>0.933333</td>\n",
              "      <td>1.0</td>\n",
              "      <td>1.0</td>\n",
              "      <td>0.933333</td>\n",
              "      <td>1.000000</td>\n",
              "      <td>0.933333</td>\n",
              "      <td>1.0</td>\n",
              "      <td>1.0</td>\n",
              "      <td>1.0</td>\n",
              "      <td>0.980000</td>\n",
              "      <td>0.030551</td>\n",
              "      <td>1</td>\n",
              "    </tr>\n",
              "    <tr>\n",
              "      <th>8</th>\n",
              "      <td>0.000228</td>\n",
              "      <td>0.000020</td>\n",
              "      <td>0.000000</td>\n",
              "      <td>0.000000</td>\n",
              "      <td>3.0</td>\n",
              "      <td>l1</td>\n",
              "      <td>{'C': 3.0, 'penalty': 'l1'}</td>\n",
              "      <td>NaN</td>\n",
              "      <td>NaN</td>\n",
              "      <td>NaN</td>\n",
              "      <td>NaN</td>\n",
              "      <td>NaN</td>\n",
              "      <td>NaN</td>\n",
              "      <td>NaN</td>\n",
              "      <td>NaN</td>\n",
              "      <td>NaN</td>\n",
              "      <td>NaN</td>\n",
              "      <td>NaN</td>\n",
              "      <td>NaN</td>\n",
              "      <td>11</td>\n",
              "    </tr>\n",
              "    <tr>\n",
              "      <th>9</th>\n",
              "      <td>0.079078</td>\n",
              "      <td>0.023046</td>\n",
              "      <td>0.001380</td>\n",
              "      <td>0.002441</td>\n",
              "      <td>3.0</td>\n",
              "      <td>l2</td>\n",
              "      <td>{'C': 3.0, 'penalty': 'l2'}</td>\n",
              "      <td>1.0</td>\n",
              "      <td>0.933333</td>\n",
              "      <td>1.0</td>\n",
              "      <td>1.0</td>\n",
              "      <td>0.933333</td>\n",
              "      <td>1.000000</td>\n",
              "      <td>0.933333</td>\n",
              "      <td>1.0</td>\n",
              "      <td>1.0</td>\n",
              "      <td>1.0</td>\n",
              "      <td>0.980000</td>\n",
              "      <td>0.030551</td>\n",
              "      <td>1</td>\n",
              "    </tr>\n",
              "    <tr>\n",
              "      <th>10</th>\n",
              "      <td>0.000271</td>\n",
              "      <td>0.000041</td>\n",
              "      <td>0.000000</td>\n",
              "      <td>0.000000</td>\n",
              "      <td>3.4</td>\n",
              "      <td>l1</td>\n",
              "      <td>{'C': 3.4, 'penalty': 'l1'}</td>\n",
              "      <td>NaN</td>\n",
              "      <td>NaN</td>\n",
              "      <td>NaN</td>\n",
              "      <td>NaN</td>\n",
              "      <td>NaN</td>\n",
              "      <td>NaN</td>\n",
              "      <td>NaN</td>\n",
              "      <td>NaN</td>\n",
              "      <td>NaN</td>\n",
              "      <td>NaN</td>\n",
              "      <td>NaN</td>\n",
              "      <td>NaN</td>\n",
              "      <td>12</td>\n",
              "    </tr>\n",
              "    <tr>\n",
              "      <th>11</th>\n",
              "      <td>0.073366</td>\n",
              "      <td>0.011843</td>\n",
              "      <td>0.001096</td>\n",
              "      <td>0.001581</td>\n",
              "      <td>3.4</td>\n",
              "      <td>l2</td>\n",
              "      <td>{'C': 3.4, 'penalty': 'l2'}</td>\n",
              "      <td>1.0</td>\n",
              "      <td>0.933333</td>\n",
              "      <td>1.0</td>\n",
              "      <td>1.0</td>\n",
              "      <td>0.933333</td>\n",
              "      <td>1.000000</td>\n",
              "      <td>0.933333</td>\n",
              "      <td>1.0</td>\n",
              "      <td>1.0</td>\n",
              "      <td>1.0</td>\n",
              "      <td>0.980000</td>\n",
              "      <td>0.030551</td>\n",
              "      <td>1</td>\n",
              "    </tr>\n",
              "  </tbody>\n",
              "</table>\n",
              "</div>\n",
              "      <button class=\"colab-df-convert\" onclick=\"convertToInteractive('df-399837c6-2e5a-4269-9492-628151c791ff')\"\n",
              "              title=\"Convert this dataframe to an interactive table.\"\n",
              "              style=\"display:none;\">\n",
              "        \n",
              "  <svg xmlns=\"http://www.w3.org/2000/svg\" height=\"24px\"viewBox=\"0 0 24 24\"\n",
              "       width=\"24px\">\n",
              "    <path d=\"M0 0h24v24H0V0z\" fill=\"none\"/>\n",
              "    <path d=\"M18.56 5.44l.94 2.06.94-2.06 2.06-.94-2.06-.94-.94-2.06-.94 2.06-2.06.94zm-11 1L8.5 8.5l.94-2.06 2.06-.94-2.06-.94L8.5 2.5l-.94 2.06-2.06.94zm10 10l.94 2.06.94-2.06 2.06-.94-2.06-.94-.94-2.06-.94 2.06-2.06.94z\"/><path d=\"M17.41 7.96l-1.37-1.37c-.4-.4-.92-.59-1.43-.59-.52 0-1.04.2-1.43.59L10.3 9.45l-7.72 7.72c-.78.78-.78 2.05 0 2.83L4 21.41c.39.39.9.59 1.41.59.51 0 1.02-.2 1.41-.59l7.78-7.78 2.81-2.81c.8-.78.8-2.07 0-2.86zM5.41 20L4 18.59l7.72-7.72 1.47 1.35L5.41 20z\"/>\n",
              "  </svg>\n",
              "      </button>\n",
              "      \n",
              "  <style>\n",
              "    .colab-df-container {\n",
              "      display:flex;\n",
              "      flex-wrap:wrap;\n",
              "      gap: 12px;\n",
              "    }\n",
              "\n",
              "    .colab-df-convert {\n",
              "      background-color: #E8F0FE;\n",
              "      border: none;\n",
              "      border-radius: 50%;\n",
              "      cursor: pointer;\n",
              "      display: none;\n",
              "      fill: #1967D2;\n",
              "      height: 32px;\n",
              "      padding: 0 0 0 0;\n",
              "      width: 32px;\n",
              "    }\n",
              "\n",
              "    .colab-df-convert:hover {\n",
              "      background-color: #E2EBFA;\n",
              "      box-shadow: 0px 1px 2px rgba(60, 64, 67, 0.3), 0px 1px 3px 1px rgba(60, 64, 67, 0.15);\n",
              "      fill: #174EA6;\n",
              "    }\n",
              "\n",
              "    [theme=dark] .colab-df-convert {\n",
              "      background-color: #3B4455;\n",
              "      fill: #D2E3FC;\n",
              "    }\n",
              "\n",
              "    [theme=dark] .colab-df-convert:hover {\n",
              "      background-color: #434B5C;\n",
              "      box-shadow: 0px 1px 3px 1px rgba(0, 0, 0, 0.15);\n",
              "      filter: drop-shadow(0px 1px 2px rgba(0, 0, 0, 0.3));\n",
              "      fill: #FFFFFF;\n",
              "    }\n",
              "  </style>\n",
              "\n",
              "      <script>\n",
              "        const buttonEl =\n",
              "          document.querySelector('#df-399837c6-2e5a-4269-9492-628151c791ff button.colab-df-convert');\n",
              "        buttonEl.style.display =\n",
              "          google.colab.kernel.accessAllowed ? 'block' : 'none';\n",
              "\n",
              "        async function convertToInteractive(key) {\n",
              "          const element = document.querySelector('#df-399837c6-2e5a-4269-9492-628151c791ff');\n",
              "          const dataTable =\n",
              "            await google.colab.kernel.invokeFunction('convertToInteractive',\n",
              "                                                     [key], {});\n",
              "          if (!dataTable) return;\n",
              "\n",
              "          const docLinkHtml = 'Like what you see? Visit the ' +\n",
              "            '<a target=\"_blank\" href=https://colab.research.google.com/notebooks/data_table.ipynb>data table notebook</a>'\n",
              "            + ' to learn more about interactive tables.';\n",
              "          element.innerHTML = '';\n",
              "          dataTable['output_type'] = 'display_data';\n",
              "          await google.colab.output.renderOutput(dataTable, element);\n",
              "          const docLink = document.createElement('div');\n",
              "          docLink.innerHTML = docLinkHtml;\n",
              "          element.appendChild(docLink);\n",
              "        }\n",
              "      </script>\n",
              "    </div>\n",
              "  </div>\n",
              "  "
            ]
          },
          "metadata": {},
          "execution_count": 25
        }
      ]
    },
    {
      "cell_type": "markdown",
      "source": [
        "## `preprocessing` 데이터 전처리 모듈\n",
        "\n",
        "* 데이터의 특징 스케일링(feature scaling)을 위한 방법으로 표준화(Standardization)와 정규화(Normalization) 사용\n",
        "\n",
        "+ 표준화 방법\n",
        "\n",
        "\\begin{equation}\n",
        "x_i^{'} = \\frac{x_i-mean(x)}{stdev(x)}\n",
        "\\end{equation}\n",
        "\n",
        "+ 정규화 방법\n",
        "\n",
        "\\begin{equation}\n",
        "x_i^{'} = \\frac{x_i-min(x)}{max(x)-min(x)}\n",
        "\\end{equation}\n",
        "\n",
        "+ scikit-learn에서는 개별 벡터 크기를 맞추는 형태로 정규화"
      ],
      "metadata": {
        "id": "mJ1VM0ecMt2M"
      }
    },
    {
      "cell_type": "markdown",
      "source": [
        "### `StandardScaler`: 표준화 클래스"
      ],
      "metadata": {
        "id": "ArIPVmI3Mvsn"
      }
    },
    {
      "cell_type": "code",
      "source": [
        ""
      ],
      "metadata": {
        "id": "gqfZmmWFMu_h"
      },
      "execution_count": null,
      "outputs": []
    },
    {
      "cell_type": "code",
      "source": [
        ""
      ],
      "metadata": {
        "id": "vnf63IPpMyNy"
      },
      "execution_count": null,
      "outputs": []
    },
    {
      "cell_type": "code",
      "source": [
        ""
      ],
      "metadata": {
        "id": "hH9CedCnMyDX"
      },
      "execution_count": null,
      "outputs": []
    },
    {
      "cell_type": "markdown",
      "source": [
        "### `MinMaxScaler`: 정규화 클래스"
      ],
      "metadata": {
        "id": "x3FT8UREMyte"
      }
    },
    {
      "cell_type": "code",
      "source": [
        ""
      ],
      "metadata": {
        "id": "ISeVgTH4M1XA"
      },
      "execution_count": null,
      "outputs": []
    },
    {
      "cell_type": "code",
      "source": [
        ""
      ],
      "metadata": {
        "id": "XE1tVmu3M2aU"
      },
      "execution_count": null,
      "outputs": []
    },
    {
      "cell_type": "markdown",
      "source": [
        "## 성능 평가 지표"
      ],
      "metadata": {
        "id": "F2shsSt5M4F4"
      }
    },
    {
      "cell_type": "markdown",
      "source": [
        "### 정확도(Accuracy)\n",
        "\n",
        "* 정확도는 전체 예측 데이터 건수 중 예측 결과가 동일한 데이터 건수로 계산\n",
        "* scikit-learn에서는 `accuracy_score` 함수를 제공"
      ],
      "metadata": {
        "id": "Bp7ek_mNM4dJ"
      }
    },
    {
      "cell_type": "code",
      "source": [
        ""
      ],
      "metadata": {
        "id": "LLbHSTsBM6mJ"
      },
      "execution_count": null,
      "outputs": []
    },
    {
      "cell_type": "markdown",
      "source": [
        "### 오차 행렬(Confusion Matrix)\n",
        "\n",
        "* True Negative: 예측값을 Negative 값 0으로 예측했고, 실제 값도 Negative 값 0\n",
        "* False Positive: 예측값을 Positive 값 1로 예측했는데, 실제 값은 Negative 값 0\n",
        "* False Negative: 예측값을 Negative 값 0으로 예측했는데, 실제 값은 Positive 값 1\n",
        "* True Positive: 예측값을 Positive 값 1로 예측했고, 실제 값도 Positive 값 1"
      ],
      "metadata": {
        "id": "IAgXajavM7O1"
      }
    },
    {
      "cell_type": "code",
      "source": [
        ""
      ],
      "metadata": {
        "id": "OA7SFqNGM9Kj"
      },
      "execution_count": null,
      "outputs": []
    },
    {
      "cell_type": "code",
      "source": [
        ""
      ],
      "metadata": {
        "id": "2PNjGjS2M9qy"
      },
      "execution_count": null,
      "outputs": []
    },
    {
      "cell_type": "markdown",
      "source": [
        "### 정밀도(Precision)와 재현율(Recall)\n",
        "\n",
        "* 정밀도 = TP / (FP + TP)\n",
        "* 재현율 = TP / (FN + TP)\n",
        "\n",
        "* 정확도 = (TN + TP) / (TN + FP + FN + TP)\n",
        "* 오류율 = (FN + FP) / (TN + FP + FN + TP)"
      ],
      "metadata": {
        "id": "fUVZmz6hM-HK"
      }
    },
    {
      "cell_type": "code",
      "source": [
        ""
      ],
      "metadata": {
        "id": "ysIF9L02M_iv"
      },
      "execution_count": null,
      "outputs": []
    },
    {
      "cell_type": "markdown",
      "source": [
        "### F1 Score(F-measure)\n",
        "\n",
        "* 정밀도와 재현율을 결합한 지표\n",
        "* 정밀도와 재현율이 어느 한쪽으로 치우치지 않을 때 높은 값을 가짐\n",
        "\n",
        "\\begin{equation}\n",
        "F1 = 2 \\times \\frac{precision \\times recall}{precision + recall}\n",
        "\\end{equation}\n"
      ],
      "metadata": {
        "id": "3Hpk1jhXNAIc"
      }
    },
    {
      "cell_type": "code",
      "source": [
        ""
      ],
      "metadata": {
        "id": "xdtHCdC4NBUF"
      },
      "execution_count": null,
      "outputs": []
    },
    {
      "cell_type": "code",
      "source": [
        ""
      ],
      "metadata": {
        "id": "S4iWWwUmNCHc"
      },
      "execution_count": null,
      "outputs": []
    },
    {
      "cell_type": "markdown",
      "source": [
        "### ROC 곡선과 AUC\n",
        "\n",
        "* ROC 곡선은 FPR(False Positive Rate)이 변할 때 TPR(True Positive Rate)이 어떻게 변하는지 나타내는 곡선\n",
        "  + TPR(True Positive Rate): TP / (FN + TP), 재현율\n",
        "  + TNR(True Negative Rate): TN / (FP + TN)\n",
        "  + FPR(False Positive Rate): FP / (FP + TN), 1 - TNR\n",
        "\n",
        "* AUC(Area Under Curve) 값은 ROC 곡선 밑에 면적을 구한 값 (1이 가까울수록 좋은 값)"
      ],
      "metadata": {
        "id": "SM_z_lwTNDIT"
      }
    },
    {
      "cell_type": "code",
      "source": [
        ""
      ],
      "metadata": {
        "id": "PgtK6K9lNEUR"
      },
      "execution_count": null,
      "outputs": []
    },
    {
      "cell_type": "code",
      "source": [
        ""
      ],
      "metadata": {
        "id": "zT6C-AB_NE9n"
      },
      "execution_count": null,
      "outputs": []
    },
    {
      "cell_type": "markdown",
      "source": [
        "## 참고문헌\n",
        "\n",
        "* scikit-learn 사이트: https://scikit-learn.org/\n",
        "* Jake VanderPlas, \"Python Data Science Handbook\", O'Reilly\n",
        "* Sebastian Raschka, Vahid Mirjalili, \"Python Machine Learning\", Packt\n",
        "* Giuseppe Bonaccorso, \"Machine Learning Algorithm\", Packt\n",
        "* Aurelien Geron, \"Hands-On Machine Learning with Scikit-Learn, Keras, and TensorFlow: Concepts, Tools, and Techniques to Build Intelligent Systems\", O'Reilly"
      ],
      "metadata": {
        "id": "m_U-OkUbNFQV"
      }
    },
    {
      "cell_type": "code",
      "source": [
        ""
      ],
      "metadata": {
        "id": "r1Wh7bxkNHtg"
      },
      "execution_count": null,
      "outputs": []
    }
  ]
}