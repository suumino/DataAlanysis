{
  "cells": [
    {
      "cell_type": "markdown",
      "metadata": {
        "id": "view-in-github",
        "colab_type": "text"
      },
      "source": [
        "<a href=\"https://colab.research.google.com/github/suumino/DataAlanysis/blob/main/Part_04_Grid_Searches_for_Hyper_Parameters.ipynb\" target=\"_parent\"><img src=\"https://colab.research.google.com/assets/colab-badge.svg\" alt=\"Open In Colab\"/></a>"
      ]
    },
    {
      "cell_type": "markdown",
      "metadata": {
        "id": "xokZ2kbKGOET"
      },
      "source": [
        "Grid Searches\n",
        "================="
      ]
    },
    {
      "cell_type": "markdown",
      "metadata": {
        "id": "1paN4aMBGOEZ"
      },
      "source": [
        "Grid-Search with build-in cross validation"
      ]
    },
    {
      "cell_type": "code",
      "execution_count": 2,
      "metadata": {
        "id": "Gap_ZE7tGOEa"
      },
      "outputs": [],
      "source": [
        "from sklearn.model_selection import GridSearchCV\n",
        "from sklearn.svm import SVC"
      ]
    },
    {
      "cell_type": "code",
      "execution_count": 3,
      "metadata": {
        "id": "oC_O0FhjGOEc"
      },
      "outputs": [],
      "source": [
        "from sklearn.datasets import load_digits\n",
        "from sklearn.model_selection import train_test_split\n",
        "digits = load_digits()\n",
        "X_train, X_test, y_train, y_test = train_test_split(digits.data, digits.target)"
      ]
    },
    {
      "cell_type": "markdown",
      "metadata": {
        "id": "0cvEJsI8GOEc"
      },
      "source": [
        "Define parameter grid:"
      ]
    },
    {
      "cell_type": "code",
      "execution_count": 4,
      "metadata": {
        "colab": {
          "base_uri": "https://localhost:8080/"
        },
        "id": "CR6c_dNkGOEd",
        "outputId": "6888a919-7b0a-4ae6-ff1c-8aa3f45a8770"
      },
      "outputs": [
        {
          "output_type": "stream",
          "name": "stdout",
          "text": [
            "{'C': array([  0.001,   0.01 ,   0.1  ,   1.   ,  10.   , 100.   ]), 'gamma': array([0.00001, 0.0001 , 0.001  , 0.01   , 0.1    ])}\n"
          ]
        }
      ],
      "source": [
        "import numpy as np\n",
        "\n",
        "param_grid = {'C': 10. ** np.arange(-3, 3), 'gamma' : 10. ** np.arange(-5, 0)}\n",
        "\n",
        "np.set_printoptions(suppress=True)\n",
        "print(param_grid)"
      ]
    },
    {
      "cell_type": "code",
      "execution_count": 5,
      "metadata": {
        "id": "sURJfTTlGOEd"
      },
      "outputs": [],
      "source": [
        "grid_search = GridSearchCV(SVC(), param_grid, verbose=3)"
      ]
    },
    {
      "cell_type": "markdown",
      "metadata": {
        "id": "cxOkyWK7GOEe"
      },
      "source": [
        "A GridSearchCV object behaves just like a normal classifier."
      ]
    },
    {
      "cell_type": "code",
      "execution_count": 6,
      "metadata": {
        "scrolled": true,
        "colab": {
          "base_uri": "https://localhost:8080/"
        },
        "id": "jT2237duGOEf",
        "outputId": "e951295c-7ca8-473c-8d52-19cbd122b60e"
      },
      "outputs": [
        {
          "output_type": "stream",
          "name": "stdout",
          "text": [
            "Fitting 5 folds for each of 30 candidates, totalling 150 fits\n",
            "[CV 1/5] END ..............C=0.001, gamma=1e-05;, score=0.107 total time=   0.2s\n",
            "[CV 2/5] END ..............C=0.001, gamma=1e-05;, score=0.107 total time=   0.2s\n",
            "[CV 3/5] END ..............C=0.001, gamma=1e-05;, score=0.104 total time=   0.2s\n",
            "[CV 4/5] END ..............C=0.001, gamma=1e-05;, score=0.108 total time=   0.2s\n",
            "[CV 5/5] END ..............C=0.001, gamma=1e-05;, score=0.108 total time=   0.2s\n",
            "[CV 1/5] END .............C=0.001, gamma=0.0001;, score=0.107 total time=   0.2s\n",
            "[CV 2/5] END .............C=0.001, gamma=0.0001;, score=0.107 total time=   0.2s\n",
            "[CV 3/5] END .............C=0.001, gamma=0.0001;, score=0.104 total time=   0.2s\n",
            "[CV 4/5] END .............C=0.001, gamma=0.0001;, score=0.108 total time=   0.2s\n",
            "[CV 5/5] END .............C=0.001, gamma=0.0001;, score=0.108 total time=   0.2s\n",
            "[CV 1/5] END ..............C=0.001, gamma=0.001;, score=0.107 total time=   0.2s\n",
            "[CV 2/5] END ..............C=0.001, gamma=0.001;, score=0.107 total time=   0.2s\n",
            "[CV 3/5] END ..............C=0.001, gamma=0.001;, score=0.104 total time=   0.2s\n",
            "[CV 4/5] END ..............C=0.001, gamma=0.001;, score=0.108 total time=   0.2s\n",
            "[CV 5/5] END ..............C=0.001, gamma=0.001;, score=0.108 total time=   0.2s\n",
            "[CV 1/5] END ...............C=0.001, gamma=0.01;, score=0.107 total time=   0.2s\n",
            "[CV 2/5] END ...............C=0.001, gamma=0.01;, score=0.107 total time=   0.2s\n",
            "[CV 3/5] END ...............C=0.001, gamma=0.01;, score=0.104 total time=   0.2s\n",
            "[CV 4/5] END ...............C=0.001, gamma=0.01;, score=0.108 total time=   0.2s\n",
            "[CV 5/5] END ...............C=0.001, gamma=0.01;, score=0.108 total time=   0.2s\n",
            "[CV 1/5] END ................C=0.001, gamma=0.1;, score=0.107 total time=   0.2s\n",
            "[CV 2/5] END ................C=0.001, gamma=0.1;, score=0.107 total time=   0.2s\n",
            "[CV 3/5] END ................C=0.001, gamma=0.1;, score=0.104 total time=   0.2s\n",
            "[CV 4/5] END ................C=0.001, gamma=0.1;, score=0.108 total time=   0.2s\n",
            "[CV 5/5] END ................C=0.001, gamma=0.1;, score=0.108 total time=   0.2s\n",
            "[CV 1/5] END ...............C=0.01, gamma=1e-05;, score=0.107 total time=   0.2s\n",
            "[CV 2/5] END ...............C=0.01, gamma=1e-05;, score=0.107 total time=   0.2s\n",
            "[CV 3/5] END ...............C=0.01, gamma=1e-05;, score=0.104 total time=   0.2s\n",
            "[CV 4/5] END ...............C=0.01, gamma=1e-05;, score=0.108 total time=   0.2s\n",
            "[CV 5/5] END ...............C=0.01, gamma=1e-05;, score=0.108 total time=   0.2s\n",
            "[CV 1/5] END ..............C=0.01, gamma=0.0001;, score=0.107 total time=   0.2s\n",
            "[CV 2/5] END ..............C=0.01, gamma=0.0001;, score=0.107 total time=   0.2s\n",
            "[CV 3/5] END ..............C=0.01, gamma=0.0001;, score=0.104 total time=   0.2s\n",
            "[CV 4/5] END ..............C=0.01, gamma=0.0001;, score=0.108 total time=   0.2s\n",
            "[CV 5/5] END ..............C=0.01, gamma=0.0001;, score=0.108 total time=   0.2s\n",
            "[CV 1/5] END ...............C=0.01, gamma=0.001;, score=0.107 total time=   0.2s\n",
            "[CV 2/5] END ...............C=0.01, gamma=0.001;, score=0.107 total time=   0.2s\n",
            "[CV 3/5] END ...............C=0.01, gamma=0.001;, score=0.104 total time=   0.2s\n",
            "[CV 4/5] END ...............C=0.01, gamma=0.001;, score=0.108 total time=   0.2s\n",
            "[CV 5/5] END ...............C=0.01, gamma=0.001;, score=0.108 total time=   0.2s\n",
            "[CV 1/5] END ................C=0.01, gamma=0.01;, score=0.107 total time=   0.2s\n",
            "[CV 2/5] END ................C=0.01, gamma=0.01;, score=0.107 total time=   0.2s\n",
            "[CV 3/5] END ................C=0.01, gamma=0.01;, score=0.104 total time=   0.2s\n",
            "[CV 4/5] END ................C=0.01, gamma=0.01;, score=0.108 total time=   0.2s\n",
            "[CV 5/5] END ................C=0.01, gamma=0.01;, score=0.108 total time=   0.2s\n",
            "[CV 1/5] END .................C=0.01, gamma=0.1;, score=0.107 total time=   0.2s\n",
            "[CV 2/5] END .................C=0.01, gamma=0.1;, score=0.107 total time=   0.2s\n",
            "[CV 3/5] END .................C=0.01, gamma=0.1;, score=0.104 total time=   0.2s\n",
            "[CV 4/5] END .................C=0.01, gamma=0.1;, score=0.108 total time=   0.2s\n",
            "[CV 5/5] END .................C=0.01, gamma=0.1;, score=0.108 total time=   0.2s\n",
            "[CV 1/5] END ................C=0.1, gamma=1e-05;, score=0.107 total time=   0.2s\n",
            "[CV 2/5] END ................C=0.1, gamma=1e-05;, score=0.107 total time=   0.2s\n",
            "[CV 3/5] END ................C=0.1, gamma=1e-05;, score=0.104 total time=   0.2s\n",
            "[CV 4/5] END ................C=0.1, gamma=1e-05;, score=0.108 total time=   0.2s\n",
            "[CV 5/5] END ................C=0.1, gamma=1e-05;, score=0.108 total time=   0.2s\n",
            "[CV 1/5] END ...............C=0.1, gamma=0.0001;, score=0.833 total time=   0.2s\n",
            "[CV 2/5] END ...............C=0.1, gamma=0.0001;, score=0.870 total time=   0.2s\n",
            "[CV 3/5] END ...............C=0.1, gamma=0.0001;, score=0.848 total time=   0.2s\n",
            "[CV 4/5] END ...............C=0.1, gamma=0.0001;, score=0.844 total time=   0.2s\n",
            "[CV 5/5] END ...............C=0.1, gamma=0.0001;, score=0.833 total time=   0.2s\n",
            "[CV 1/5] END ................C=0.1, gamma=0.001;, score=0.970 total time=   0.1s\n",
            "[CV 2/5] END ................C=0.1, gamma=0.001;, score=0.963 total time=   0.1s\n",
            "[CV 3/5] END ................C=0.1, gamma=0.001;, score=0.959 total time=   0.1s\n",
            "[CV 4/5] END ................C=0.1, gamma=0.001;, score=0.948 total time=   0.1s\n",
            "[CV 5/5] END ................C=0.1, gamma=0.001;, score=0.948 total time=   0.1s\n",
            "[CV 1/5] END .................C=0.1, gamma=0.01;, score=0.107 total time=   0.2s\n",
            "[CV 2/5] END .................C=0.1, gamma=0.01;, score=0.107 total time=   0.2s\n",
            "[CV 3/5] END .................C=0.1, gamma=0.01;, score=0.104 total time=   0.2s\n",
            "[CV 4/5] END .................C=0.1, gamma=0.01;, score=0.108 total time=   0.2s\n",
            "[CV 5/5] END .................C=0.1, gamma=0.01;, score=0.108 total time=   0.2s\n",
            "[CV 1/5] END ..................C=0.1, gamma=0.1;, score=0.107 total time=   0.2s\n",
            "[CV 2/5] END ..................C=0.1, gamma=0.1;, score=0.107 total time=   0.2s\n",
            "[CV 3/5] END ..................C=0.1, gamma=0.1;, score=0.104 total time=   0.2s\n",
            "[CV 4/5] END ..................C=0.1, gamma=0.1;, score=0.108 total time=   0.2s\n",
            "[CV 5/5] END ..................C=0.1, gamma=0.1;, score=0.108 total time=   0.2s\n",
            "[CV 1/5] END ................C=1.0, gamma=1e-05;, score=0.863 total time=   0.2s\n",
            "[CV 2/5] END ................C=1.0, gamma=1e-05;, score=0.900 total time=   0.1s\n",
            "[CV 3/5] END ................C=1.0, gamma=1e-05;, score=0.870 total time=   0.2s\n",
            "[CV 4/5] END ................C=1.0, gamma=1e-05;, score=0.874 total time=   0.2s\n",
            "[CV 5/5] END ................C=1.0, gamma=1e-05;, score=0.862 total time=   0.2s\n",
            "[CV 1/5] END ...............C=1.0, gamma=0.0001;, score=0.970 total time=   0.1s\n",
            "[CV 2/5] END ...............C=1.0, gamma=0.0001;, score=0.970 total time=   0.1s\n",
            "[CV 3/5] END ...............C=1.0, gamma=0.0001;, score=0.974 total time=   0.1s\n",
            "[CV 4/5] END ...............C=1.0, gamma=0.0001;, score=0.963 total time=   0.1s\n",
            "[CV 5/5] END ...............C=1.0, gamma=0.0001;, score=0.955 total time=   0.1s\n",
            "[CV 1/5] END ................C=1.0, gamma=0.001;, score=0.989 total time=   0.1s\n",
            "[CV 2/5] END ................C=1.0, gamma=0.001;, score=0.989 total time=   0.1s\n",
            "[CV 3/5] END ................C=1.0, gamma=0.001;, score=0.989 total time=   0.1s\n",
            "[CV 4/5] END ................C=1.0, gamma=0.001;, score=1.000 total time=   0.1s\n",
            "[CV 5/5] END ................C=1.0, gamma=0.001;, score=0.985 total time=   0.1s\n",
            "[CV 1/5] END .................C=1.0, gamma=0.01;, score=0.726 total time=   0.2s\n",
            "[CV 2/5] END .................C=1.0, gamma=0.01;, score=0.726 total time=   0.2s\n",
            "[CV 3/5] END .................C=1.0, gamma=0.01;, score=0.788 total time=   0.2s\n",
            "[CV 4/5] END .................C=1.0, gamma=0.01;, score=0.714 total time=   0.2s\n",
            "[CV 5/5] END .................C=1.0, gamma=0.01;, score=0.703 total time=   0.2s\n",
            "[CV 1/5] END ..................C=1.0, gamma=0.1;, score=0.107 total time=   0.2s\n",
            "[CV 2/5] END ..................C=1.0, gamma=0.1;, score=0.107 total time=   0.2s\n",
            "[CV 3/5] END ..................C=1.0, gamma=0.1;, score=0.104 total time=   0.2s\n",
            "[CV 4/5] END ..................C=1.0, gamma=0.1;, score=0.108 total time=   0.2s\n",
            "[CV 5/5] END ..................C=1.0, gamma=0.1;, score=0.108 total time=   0.2s\n",
            "[CV 1/5] END ...............C=10.0, gamma=1e-05;, score=0.970 total time=   0.1s\n",
            "[CV 2/5] END ...............C=10.0, gamma=1e-05;, score=0.967 total time=   0.1s\n",
            "[CV 3/5] END ...............C=10.0, gamma=1e-05;, score=0.974 total time=   0.1s\n",
            "[CV 4/5] END ...............C=10.0, gamma=1e-05;, score=0.963 total time=   0.1s\n",
            "[CV 5/5] END ...............C=10.0, gamma=1e-05;, score=0.952 total time=   0.1s\n",
            "[CV 1/5] END ..............C=10.0, gamma=0.0001;, score=0.981 total time=   0.0s\n",
            "[CV 2/5] END ..............C=10.0, gamma=0.0001;, score=0.985 total time=   0.0s\n",
            "[CV 3/5] END ..............C=10.0, gamma=0.0001;, score=0.989 total time=   0.0s\n",
            "[CV 4/5] END ..............C=10.0, gamma=0.0001;, score=1.000 total time=   0.0s\n",
            "[CV 5/5] END ..............C=10.0, gamma=0.0001;, score=0.978 total time=   0.0s\n",
            "[CV 1/5] END ...............C=10.0, gamma=0.001;, score=0.993 total time=   0.1s\n",
            "[CV 2/5] END ...............C=10.0, gamma=0.001;, score=0.989 total time=   0.1s\n",
            "[CV 3/5] END ...............C=10.0, gamma=0.001;, score=0.996 total time=   0.1s\n",
            "[CV 4/5] END ...............C=10.0, gamma=0.001;, score=1.000 total time=   0.1s\n",
            "[CV 5/5] END ...............C=10.0, gamma=0.001;, score=0.993 total time=   0.1s\n",
            "[CV 1/5] END ................C=10.0, gamma=0.01;, score=0.756 total time=   0.2s\n",
            "[CV 2/5] END ................C=10.0, gamma=0.01;, score=0.759 total time=   0.2s\n",
            "[CV 3/5] END ................C=10.0, gamma=0.01;, score=0.792 total time=   0.2s\n",
            "[CV 4/5] END ................C=10.0, gamma=0.01;, score=0.725 total time=   0.2s\n",
            "[CV 5/5] END ................C=10.0, gamma=0.01;, score=0.725 total time=   0.2s\n",
            "[CV 1/5] END .................C=10.0, gamma=0.1;, score=0.107 total time=   0.2s\n",
            "[CV 2/5] END .................C=10.0, gamma=0.1;, score=0.107 total time=   0.2s\n",
            "[CV 3/5] END .................C=10.0, gamma=0.1;, score=0.104 total time=   0.2s\n",
            "[CV 4/5] END .................C=10.0, gamma=0.1;, score=0.108 total time=   0.2s\n",
            "[CV 5/5] END .................C=10.0, gamma=0.1;, score=0.108 total time=   0.2s\n",
            "[CV 1/5] END ..............C=100.0, gamma=1e-05;, score=0.978 total time=   0.0s\n",
            "[CV 2/5] END ..............C=100.0, gamma=1e-05;, score=0.981 total time=   0.0s\n",
            "[CV 3/5] END ..............C=100.0, gamma=1e-05;, score=0.985 total time=   0.0s\n",
            "[CV 4/5] END ..............C=100.0, gamma=1e-05;, score=0.993 total time=   0.0s\n",
            "[CV 5/5] END ..............C=100.0, gamma=1e-05;, score=0.963 total time=   0.0s\n",
            "[CV 1/5] END .............C=100.0, gamma=0.0001;, score=0.985 total time=   0.0s\n",
            "[CV 2/5] END .............C=100.0, gamma=0.0001;, score=0.993 total time=   0.0s\n",
            "[CV 3/5] END .............C=100.0, gamma=0.0001;, score=0.993 total time=   0.0s\n",
            "[CV 4/5] END .............C=100.0, gamma=0.0001;, score=1.000 total time=   0.0s\n",
            "[CV 5/5] END .............C=100.0, gamma=0.0001;, score=0.981 total time=   0.0s\n",
            "[CV 1/5] END ..............C=100.0, gamma=0.001;, score=0.993 total time=   0.1s\n",
            "[CV 2/5] END ..............C=100.0, gamma=0.001;, score=0.989 total time=   0.1s\n",
            "[CV 3/5] END ..............C=100.0, gamma=0.001;, score=0.996 total time=   0.1s\n",
            "[CV 4/5] END ..............C=100.0, gamma=0.001;, score=1.000 total time=   0.1s\n",
            "[CV 5/5] END ..............C=100.0, gamma=0.001;, score=0.993 total time=   0.1s\n",
            "[CV 1/5] END ...............C=100.0, gamma=0.01;, score=0.756 total time=   0.2s\n",
            "[CV 2/5] END ...............C=100.0, gamma=0.01;, score=0.759 total time=   0.2s\n",
            "[CV 3/5] END ...............C=100.0, gamma=0.01;, score=0.792 total time=   0.2s\n",
            "[CV 4/5] END ...............C=100.0, gamma=0.01;, score=0.725 total time=   0.2s\n",
            "[CV 5/5] END ...............C=100.0, gamma=0.01;, score=0.725 total time=   0.2s\n",
            "[CV 1/5] END ................C=100.0, gamma=0.1;, score=0.107 total time=   0.2s\n",
            "[CV 2/5] END ................C=100.0, gamma=0.1;, score=0.107 total time=   0.2s\n",
            "[CV 3/5] END ................C=100.0, gamma=0.1;, score=0.104 total time=   0.2s\n",
            "[CV 4/5] END ................C=100.0, gamma=0.1;, score=0.108 total time=   0.2s\n",
            "[CV 5/5] END ................C=100.0, gamma=0.1;, score=0.108 total time=   0.2s\n"
          ]
        },
        {
          "output_type": "execute_result",
          "data": {
            "text/plain": [
              "GridSearchCV(estimator=SVC(),\n",
              "             param_grid={'C': array([  0.001,   0.01 ,   0.1  ,   1.   ,  10.   , 100.   ]),\n",
              "                         'gamma': array([0.00001, 0.0001 , 0.001  , 0.01   , 0.1    ])},\n",
              "             verbose=3)"
            ]
          },
          "metadata": {},
          "execution_count": 6
        }
      ],
      "source": [
        "grid_search.fit(X_train, y_train)"
      ]
    },
    {
      "cell_type": "code",
      "execution_count": 7,
      "metadata": {
        "colab": {
          "base_uri": "https://localhost:8080/"
        },
        "id": "JeEw9QIJGOEf",
        "outputId": "dd79d353-c90a-4159-8098-f4d56c349ca0"
      },
      "outputs": [
        {
          "output_type": "execute_result",
          "data": {
            "text/plain": [
              "array([4, 7, 6, 3, 2, 8, 1, 1, 5, 1, 0, 6, 9, 9, 4, 2, 8, 3, 1, 7, 1, 7,\n",
              "       7, 3, 8, 4, 8, 0, 4, 1, 9, 6, 4, 8, 0, 9, 6, 4, 0, 5, 9, 8, 4, 8,\n",
              "       0, 0, 9, 0, 8, 3, 0, 9, 5, 3, 4, 2, 2, 8, 0, 2, 5, 3, 0, 0, 9, 0,\n",
              "       9, 7, 7, 1, 5, 5, 5, 9, 8, 3, 5, 2, 4, 4, 3, 3, 0, 0, 8, 3, 9, 6,\n",
              "       7, 9, 7, 7, 3, 4, 5, 8, 1, 5, 7, 7, 3, 3, 3, 9, 6, 4, 8, 7, 2, 0,\n",
              "       0, 2, 3, 8, 5, 8, 3, 0, 9, 3, 9, 1, 6, 2, 6, 0, 2, 4, 5, 4, 4, 8,\n",
              "       2, 1, 4, 4, 7, 9, 1, 4, 9, 7, 7, 6, 3, 3, 2, 2, 4, 7, 3, 7, 1, 7,\n",
              "       1, 0, 8, 1, 1, 7, 3, 5, 7, 6, 4, 2, 8, 8, 1, 3, 2, 9, 0, 6, 3, 3,\n",
              "       9, 9, 2, 3, 6, 2, 2, 8, 4, 2, 2, 8, 6, 9, 0, 9, 9, 9, 6, 8, 1, 7,\n",
              "       2, 0, 1, 2, 4, 7, 4, 2, 8, 2, 1, 6, 4, 4, 7, 1, 4, 4, 0, 9, 1, 8,\n",
              "       5, 9, 8, 3, 4, 0, 6, 2, 5, 6, 5, 0, 3, 8, 7, 1, 9, 4, 6, 3, 7, 6,\n",
              "       4, 6, 3, 8, 3, 8, 5, 1, 3, 4, 0, 0, 6, 2, 9, 6, 1, 1, 5, 8, 0, 7,\n",
              "       0, 8, 6, 8, 8, 8, 7, 8, 1, 0, 8, 2, 6, 3, 7, 7, 4, 5, 2, 3, 8, 0,\n",
              "       4, 3, 4, 9, 7, 3, 7, 3, 3, 8, 4, 0, 4, 0, 9, 0, 7, 2, 2, 8, 4, 4,\n",
              "       6, 0, 3, 5, 4, 7, 6, 9, 4, 0, 7, 9, 0, 9, 1, 0, 5, 9, 5, 1, 2, 9,\n",
              "       7, 2, 1, 4, 6, 5, 8, 2, 5, 3, 0, 4, 9, 1, 0, 1, 1, 2, 7, 4, 4, 7,\n",
              "       7, 0, 1, 0, 4, 6, 7, 9, 7, 0, 8, 8, 3, 0, 4, 6, 3, 4, 5, 2, 6, 5,\n",
              "       0, 4, 5, 6, 3, 8, 7, 5, 5, 8, 6, 6, 8, 5, 2, 5, 6, 1, 6, 1, 7, 5,\n",
              "       2, 6, 5, 7, 1, 2, 8, 9, 7, 6, 0, 3, 2, 2, 6, 7, 1, 2, 2, 9, 3, 2,\n",
              "       7, 5, 5, 7, 0, 7, 0, 5, 7, 3, 0, 7, 4, 0, 5, 2, 1, 8, 4, 6, 1, 3,\n",
              "       5, 3, 4, 0, 4, 9, 2, 8, 5, 0])"
            ]
          },
          "metadata": {},
          "execution_count": 7
        }
      ],
      "source": [
        "grid_search.predict(X_test)"
      ]
    },
    {
      "cell_type": "code",
      "execution_count": 8,
      "metadata": {
        "colab": {
          "base_uri": "https://localhost:8080/"
        },
        "id": "g5Lc_bfzGOEg",
        "outputId": "2854f3f1-80dd-4dca-fdb5-033974bfc9b3"
      },
      "outputs": [
        {
          "output_type": "execute_result",
          "data": {
            "text/plain": [
              "0.9911111111111112"
            ]
          },
          "metadata": {},
          "execution_count": 8
        }
      ],
      "source": [
        "grid_search.score(X_test, y_test)"
      ]
    },
    {
      "cell_type": "code",
      "execution_count": 9,
      "metadata": {
        "colab": {
          "base_uri": "https://localhost:8080/"
        },
        "id": "c5smCKUrGOEh",
        "outputId": "c88be09c-0c1a-451a-8398-adba2b9c28bd"
      },
      "outputs": [
        {
          "output_type": "execute_result",
          "data": {
            "text/plain": [
              "{'C': 10.0, 'gamma': 0.001}"
            ]
          },
          "metadata": {},
          "execution_count": 9
        }
      ],
      "source": [
        "grid_search.best_params_"
      ]
    },
    {
      "cell_type": "code",
      "execution_count": 30,
      "metadata": {
        "colab": {
          "base_uri": "https://localhost:8080/",
          "height": 250
        },
        "id": "SV-DEzitGOEh",
        "outputId": "76e46753-8fdd-4a1d-ab2a-0d7783fb9feb"
      },
      "outputs": [
        {
          "output_type": "error",
          "ename": "TypeError",
          "evalue": "ignored",
          "traceback": [
            "\u001b[0;31m---------------------------------------------------------------------------\u001b[0m",
            "\u001b[0;31mTypeError\u001b[0m                                 Traceback (most recent call last)",
            "\u001b[0;32m<ipython-input-30-698476f80575>\u001b[0m in \u001b[0;36m<module>\u001b[0;34m()\u001b[0m\n\u001b[1;32m      3\u001b[0m \u001b[0;32mimport\u001b[0m \u001b[0mmatplotlib\u001b[0m\u001b[0;34m.\u001b[0m\u001b[0mpyplot\u001b[0m \u001b[0;32mas\u001b[0m \u001b[0mplt\u001b[0m\u001b[0;34m\u001b[0m\u001b[0;34m\u001b[0m\u001b[0m\n\u001b[1;32m      4\u001b[0m \u001b[0;34m\u001b[0m\u001b[0m\n\u001b[0;32m----> 5\u001b[0;31m \u001b[0mscores\u001b[0m \u001b[0;34m=\u001b[0m \u001b[0;34m[\u001b[0m\u001b[0mx\u001b[0m\u001b[0;34m[\u001b[0m\u001b[0;36m1\u001b[0m\u001b[0;34m]\u001b[0m \u001b[0;32mfor\u001b[0m \u001b[0mx\u001b[0m \u001b[0;32min\u001b[0m \u001b[0mgrid_search\u001b[0m\u001b[0;34m.\u001b[0m\u001b[0mscoring\u001b[0m\u001b[0;34m]\u001b[0m\u001b[0;34m\u001b[0m\u001b[0;34m\u001b[0m\u001b[0m\n\u001b[0m\u001b[1;32m      6\u001b[0m \u001b[0mscores\u001b[0m \u001b[0;34m=\u001b[0m \u001b[0mnp\u001b[0m\u001b[0;34m.\u001b[0m\u001b[0marray\u001b[0m\u001b[0;34m(\u001b[0m\u001b[0mscores\u001b[0m\u001b[0;34m)\u001b[0m\u001b[0;34m.\u001b[0m\u001b[0mreshape\u001b[0m\u001b[0;34m(\u001b[0m\u001b[0;36m6\u001b[0m\u001b[0;34m,\u001b[0m \u001b[0;36m5\u001b[0m\u001b[0;34m)\u001b[0m\u001b[0;34m\u001b[0m\u001b[0;34m\u001b[0m\u001b[0m\n\u001b[1;32m      7\u001b[0m \u001b[0;34m\u001b[0m\u001b[0m\n",
            "\u001b[0;31mTypeError\u001b[0m: 'NoneType' object is not iterable"
          ]
        }
      ],
      "source": [
        "# We extract just the scores\n",
        "%matplotlib inline\n",
        "import matplotlib.pyplot as plt\n",
        "\n",
        "scores = [x[1] for x in grid_search.scoring]\n",
        "scores = np.array(scores).reshape(6, 5)\n",
        "\n",
        "plt.matshow(scores)\n",
        "plt.xlabel('gamma')\n",
        "plt.ylabel('C')\n",
        "plt.colorbar()\n",
        "plt.xticks(np.arange(5), param_grid['gamma'])\n",
        "plt.yticks(np.arange(6), param_grid['C']);"
      ]
    },
    {
      "cell_type": "code",
      "execution_count": null,
      "metadata": {
        "id": "QIYCPlO5GOEi"
      },
      "outputs": [],
      "source": [
        ""
      ]
    }
  ],
  "metadata": {
    "kernelspec": {
      "display_name": "Python 3",
      "language": "python",
      "name": "python3"
    },
    "language_info": {
      "codemirror_mode": {
        "name": "ipython",
        "version": 3
      },
      "file_extension": ".py",
      "mimetype": "text/x-python",
      "name": "python",
      "nbconvert_exporter": "python",
      "pygments_lexer": "ipython3",
      "version": "3.4.3"
    },
    "colab": {
      "name": "Part 04 - Grid Searches for Hyper Parameters.ipynb",
      "provenance": [],
      "collapsed_sections": [],
      "include_colab_link": true
    }
  },
  "nbformat": 4,
  "nbformat_minor": 0
}
