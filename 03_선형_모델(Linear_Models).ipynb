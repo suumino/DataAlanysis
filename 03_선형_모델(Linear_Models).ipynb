{
  "nbformat": 4,
  "nbformat_minor": 0,
  "metadata": {
    "colab": {
      "name": "_3 선형 모델(Linear Models).ipynb",
      "provenance": [],
      "collapsed_sections": [],
      "include_colab_link": true
    },
    "kernelspec": {
      "name": "python3",
      "display_name": "Python 3"
    }
  },
  "cells": [
    {
      "cell_type": "markdown",
      "metadata": {
        "id": "view-in-github",
        "colab_type": "text"
      },
      "source": [
        "<a href=\"https://colab.research.google.com/github/suumino/DataAlanysis/blob/main/03_%EC%84%A0%ED%98%95_%EB%AA%A8%EB%8D%B8(Linear_Models).ipynb\" target=\"_parent\"><img src=\"https://colab.research.google.com/assets/colab-badge.svg\" alt=\"Open In Colab\"/></a>"
      ]
    },
    {
      "cell_type": "markdown",
      "metadata": {
        "id": "DshKcOwgIZup"
      },
      "source": [
        "# 선형 모델(Linear Models)\n",
        "\n",
        "* 선형 모델은 과거 부터 지금 까지 널리 사용되고 연구 되고 있는 기계학습 방법\n",
        "* 선형 모델은 입력 데이터에 대한 선형 함수를 만들어 예측 수행\n",
        "\n",
        "* 회귀 분석을 위한 선형 모델은 다음과 같이 정의\n",
        "\n",
        "\\begin{equation}\n",
        "\\hat{y}(w,x) = w_0 + w_1 x_1 + ... + w_p x_p\n",
        "\\end{equation}\n",
        "\n",
        "  + $x$: 입력 데이터\n",
        "  + $w$: 모델이 학습할 파라미터\n",
        "  + $w_0$: 편향\n",
        "  + $w_1$~$w_p$: 가중치\n"
      ]
    },
    {
      "cell_type": "markdown",
      "metadata": {
        "id": "ViVIzdV6MG0h"
      },
      "source": [
        "## 선형 회귀(Linear Regression)\n",
        "\n",
        "* **선형 회귀(Linear Regression)**또는 **최소제곱법(Ordinary Least Squares)**은 가장 간단한 회귀 분석을 위한 선형 모델\n",
        "* 선형 회귀는 모델의 예측과 정답 사이의 **평균제곱오차(Mean Squared Error)**를 최소화 하는 학습 파라미터 $w$를 찾음\n",
        "* 평균제곱오차는 아래와 같이 정의\n",
        "\n",
        "\\begin{equation}\n",
        "MSE = \\frac{1}{N} \\sum_{i=1}^{N}(y_i - \\hat{y}_i)^2\n",
        "\\end{equation}\n",
        "\n",
        "  + $y$: 정답\n",
        "  + $\\hat{y}$: 예측 값을 의미\n",
        "\n",
        "* 선형 회귀 모델에서 사용하는 다양한 오류 측정 방법\n",
        "  + MAE(Mean Absoulte Error)\n",
        "  + MAPE(Mean Absolute Percentage Error)\n",
        "  + MSE(Mean Squared Error)\n",
        "  + MPE(Mean Percentage Error)"
      ]
    },
    {
      "cell_type": "code",
      "metadata": {
        "id": "qN3SH54xSJfZ"
      },
      "source": [
        "import numpy as np\n",
        "import matplotlib.pyplot as plt\n",
        "\n",
        "plt.style.use(['seaborn-whitegrid'])"
      ],
      "execution_count": 1,
      "outputs": []
    },
    {
      "cell_type": "code",
      "metadata": {
        "id": "RhDUAkan60FV"
      },
      "source": [
        "from sklearn.linear_model import LinearRegression\n",
        "from sklearn.model_selection import train_test_split"
      ],
      "execution_count": 2,
      "outputs": []
    },
    {
      "cell_type": "code",
      "metadata": {
        "id": "t0-0eVF0OQeF",
        "outputId": "a8778a40-5e5b-4c5f-91ba-ae0fb2d5a03e",
        "colab": {
          "base_uri": "https://localhost:8080/",
          "height": 262
        }
      },
      "source": [
        "noise = np.random.rand(100, 1)\n",
        "X = sorted(10 * np.random.rand(100, 1)) + noise\n",
        "y = sorted(10 * np.random.rand(100))\n",
        "\n",
        "plt.scatter(X, y);"
      ],
      "execution_count": 3,
      "outputs": [
        {
          "output_type": "display_data",
          "data": {
            "text/plain": [
              "<Figure size 432x288 with 1 Axes>"
            ],
            "image/png": "[encoded data removed]"
          },
          "metadata": {
            "needs_background": "light"
          }
        }
      ]
    },
    {
      "cell_type": "code",
      "metadata": {
        "id": "vqLrQT-vOdyd",
        "outputId": "441c0051-d359-4ce1-d11f-732ca89fbc38",
        "colab": {
          "base_uri": "https://localhost:8080/"
        }
      },
      "source": [
        "X_train, X_test, y_train, y_test = train_test_split(X, y, test_size=0.1)\n",
        "model = LinearRegression()\n",
        "model.fit(X_train, y_train)"
      ],
      "execution_count": 5,
      "outputs": [
        {
          "output_type": "execute_result",
          "data": {
            "text/plain": [
              "LinearRegression()"
            ]
          },
          "metadata": {},
          "execution_count": 5
        }
      ]
    },
    {
      "cell_type": "code",
      "metadata": {
        "id": "wjD1aa8cQZ22",
        "outputId": "c66f8f6f-a14f-4f69-8e69-269c35babe97",
        "colab": {
          "base_uri": "https://localhost:8080/"
        }
      },
      "source": [
        "print('선형 회귀 가중치: {}'.format(model.coef_))\n",
        "print('선형 회귀 편향: {}'.format(model.intercept_))"
      ],
      "execution_count": 7,
      "outputs": [
        {
          "output_type": "stream",
          "name": "stdout",
          "text": [
            "선형 회귀 가중치: [0.96213853]\n",
            "선형 회귀 편향: -0.9099638469581626\n"
          ]
        }
      ]
    },
    {
      "cell_type": "code",
      "metadata": {
        "id": "lCThcWsVaM7t",
        "outputId": "19d9ab6f-e21e-41be-adb7-14f50982666b",
        "colab": {
          "base_uri": "https://localhost:8080/"
        }
      },
      "source": [
        "print('학습 데이터 점수: {}'.format(model.score(X_train, y_train)))\n",
        "print('평가 데이터 점수: {}'.format(model.score(X_test, y_test)))"
      ],
      "execution_count": 8,
      "outputs": [
        {
          "output_type": "stream",
          "name": "stdout",
          "text": [
            "학습 데이터 점수: 0.9746937652341333\n",
            "평가 데이터 점수: 0.9776047378167969\n"
          ]
        }
      ]
    },
    {
      "cell_type": "code",
      "metadata": {
        "id": "D1sLtGbPRF18",
        "outputId": "20bcad85-d9d9-415b-97ba-f71c69211ae5",
        "colab": {
          "base_uri": "https://localhost:8080/",
          "height": 281
        }
      },
      "source": [
        "predict = model.predict(X_test)\n",
        "\n",
        "plt.scatter(X_test, y_test)\n",
        "plt.plot(X_test, predict, '--r')"
      ],
      "execution_count": 9,
      "outputs": [
        {
          "output_type": "execute_result",
          "data": {
            "text/plain": [
              "[<matplotlib.lines.Line2D at 0x7fc9b8d83910>]"
            ]
          },
          "metadata": {},
          "execution_count": 9
        },
        {
          "output_type": "display_data",
          "data": {
            "text/plain": [
              "<Figure size 432x288 with 1 Axes>"
            ],
            "image/png": "[encoded data removed]"
          },
          "metadata": {
            "needs_background": "light"
          }
        }
      ]
    },
    {
      "cell_type": "markdown",
      "metadata": {
        "id": "9rZsH1etbm8-"
      },
      "source": [
        "### 보스턴 주택 가격 데이터\n",
        "\n",
        "* 주택 가격 데이터는 도시에 대한 분석과 부동산, 경제적인 정보 분석 등 많은 활용 가능한 측면들이 존재\n",
        "* 보스턴 주택 가격 데이터는 카네기 멜론 대학교에서 관리하는 StatLib 라이브러리에서 가져온 것\n",
        "* 헤리슨(Harrison, D.)과 루빈펠트(Rubinfeld, D. L.)의 논문 \"Hedonic prices and the demand for clean air', J. Environ. Economics & Management\"에서 보스턴 데이터가 사용\n",
        "* 1970년도 인구 조사에서 보스턴의 506개 조사 구역과 주택 가격에 영향을 주는 속성 21개로 구성\n",
        "\n",
        "| 속성 | 설명 |\n",
        "|------|------|\n",
        "| CRIM | 자치시(town)별 1인당 범죄율 |\n",
        "| ZN | 25,000 평방 피트가 넘는 거주지역 토지 비율 |\n",
        "| INDUS | 자치시(town)별 비소매 상업지역 토지 비율 |\n",
        "| CHAS | 찰스 강(Charles River)에 대한 변수 (강의 경계에 위치하면 1, 그렇지 않으면 0) |\n",
        "| NOX | 10,000,000당  일산화질소 농도 |\n",
        "| RM | 주택 1가구당 평균 방의 수 |\n",
        "| AGE | 1940년 이전에 건축된 소유주택 비율 |\n",
        "| DIS | 5개의 보스턴 고용 센터까지의 가중 거리 |\n",
        "| RAD | 방사형 고속도로 접근성 지수 |\n",
        "| TAX | 10,000 달러당 재산 세율 |\n",
        "| PTRATIO | 자치시(town)별 학생/교사 비율 |\n",
        "| B | 1000(Bk-0.63)^2, Bk: 자치시별 흑인 비율 |\n",
        "| LSTAT | 모집단의 하위계층 비율(%) |\n",
        "| MEDV | 소유자가 거주하는 주택가격(중앙값) (단위: 1,000 달러) |"
      ]
    },
    {
      "cell_type": "code",
      "metadata": {
        "id": "pK-UTURuay_m"
      },
      "source": [
        ""
      ],
      "execution_count": null,
      "outputs": []
    },
    {
      "cell_type": "code",
      "metadata": {
        "id": "EV43549KdSNP"
      },
      "source": [
        ""
      ],
      "execution_count": null,
      "outputs": []
    },
    {
      "cell_type": "code",
      "metadata": {
        "id": "k7LqXNAodWrE"
      },
      "source": [
        ""
      ],
      "execution_count": null,
      "outputs": []
    },
    {
      "cell_type": "code",
      "metadata": {
        "id": "AkD8_D_ydk5_"
      },
      "source": [
        ""
      ],
      "execution_count": null,
      "outputs": []
    },
    {
      "cell_type": "code",
      "metadata": {
        "id": "7jFShMosdyju"
      },
      "source": [
        ""
      ],
      "execution_count": null,
      "outputs": []
    },
    {
      "cell_type": "code",
      "metadata": {
        "id": "ijpeWlJsd5DW"
      },
      "source": [
        ""
      ],
      "execution_count": null,
      "outputs": []
    },
    {
      "cell_type": "markdown",
      "metadata": {
        "id": "8DXFm6dE8AxR"
      },
      "source": [
        "### 보스턴 주택 가격에 대한 선형 회귀"
      ]
    },
    {
      "cell_type": "code",
      "metadata": {
        "id": "y0I36JHC6OgR"
      },
      "source": [
        ""
      ],
      "execution_count": null,
      "outputs": []
    },
    {
      "cell_type": "code",
      "metadata": {
        "id": "Gp3s3oHe8M_u"
      },
      "source": [
        ""
      ],
      "execution_count": null,
      "outputs": []
    },
    {
      "cell_type": "code",
      "metadata": {
        "id": "oBInBouh8WaM"
      },
      "source": [
        ""
      ],
      "execution_count": null,
      "outputs": []
    },
    {
      "cell_type": "markdown",
      "metadata": {
        "id": "Fhl3HRNc-cUr"
      },
      "source": [
        "* 데이터를 두개로 분리하고 모델을 생성 및 검증하였지만, 데이터를 분리하였기 때문에 훈련에 사용할 수 있는 양도 작아지고, 분리가 잘 안된 경우에는 잘못된 검증이 될 수 있음\n",
        "* 이럴 경우에는 테스트셋을 여러개로 구성하여 교차 검증을 진행\n",
        "* `cross_val_score()` 함수는 교차 검증을 수행하여 모델을 검증\n",
        "* 다음 예제에서는 모델 오류를 측정하는 점수로 NMSE(Negative Mean Squared Error)를 사용"
      ]
    },
    {
      "cell_type": "code",
      "metadata": {
        "id": "rMe0k18q-LL3"
      },
      "source": [
        ""
      ],
      "execution_count": null,
      "outputs": []
    },
    {
      "cell_type": "markdown",
      "metadata": {
        "id": "lmkuscEyBT5t"
      },
      "source": [
        "* 회귀모델의 검증을 위한 또 다른 측정 지표 중 하나로 결정 계수(coefficient of determination, $R^2$) 사용"
      ]
    },
    {
      "cell_type": "code",
      "metadata": {
        "id": "6D6ytf6dBRem"
      },
      "source": [
        ""
      ],
      "execution_count": null,
      "outputs": []
    },
    {
      "cell_type": "markdown",
      "metadata": {
        "id": "L3RmQzelK31R"
      },
      "source": [
        "생성된 회귀 모델에 대해서 평가를 위해 LinearRegression 객체에 포함된 두 개의 속성 값을 통해 수식을 표현\n",
        "* intercept_: 추정된 상수항\n",
        "* coef_: 추정된 가중치 벡터"
      ]
    },
    {
      "cell_type": "code",
      "metadata": {
        "id": "8WZ-JeQzLIhh"
      },
      "source": [
        ""
      ],
      "execution_count": null,
      "outputs": []
    },
    {
      "cell_type": "code",
      "metadata": {
        "id": "1w7FnSDvLPir"
      },
      "source": [
        ""
      ],
      "execution_count": null,
      "outputs": []
    },
    {
      "cell_type": "code",
      "metadata": {
        "id": "Tq92fjtgLTUp"
      },
      "source": [
        ""
      ],
      "execution_count": null,
      "outputs": []
    },
    {
      "cell_type": "code",
      "metadata": {
        "id": "-cOlDJ2FLYpH"
      },
      "source": [
        ""
      ],
      "execution_count": null,
      "outputs": []
    },
    {
      "cell_type": "markdown",
      "metadata": {
        "id": "BRVfs8NqCzIP"
      },
      "source": [
        "### 캘리포니아 주택 가격 데이터\n",
        "\n",
        "| 속성 | 설명 |\n",
        "|------|------|\n",
        "| MedInc | 블록의 중간 소득 |\n",
        "| HouseAge | 블록의 중간 주택 연도 |\n",
        "| AveRooms | 자치시(town)별 비소매 상업지역 토지 비율 |\n",
        "| AveBedrms | 찰스 강(Charles River)에 대한 변수 (강의 경계에 위치하면 1, 그렇지 않으면 0) |\n",
        "| Population | 10,000,000당  일산화질소 농도 |\n",
        "| AveOccup | 주택 1가구당 평균 방의 수 |\n",
        "| Latitude | 1940년 이전에 건축된 소유주택 비율 |\n",
        "| Longitude | 5개의 보스턴 고용 센터까지의 가중 거리 |"
      ]
    },
    {
      "cell_type": "code",
      "metadata": {
        "id": "TPqeZGmnDK2N"
      },
      "source": [
        ""
      ],
      "execution_count": null,
      "outputs": []
    },
    {
      "cell_type": "code",
      "metadata": {
        "id": "i2J-fHYtDOZQ"
      },
      "source": [
        ""
      ],
      "execution_count": null,
      "outputs": []
    },
    {
      "cell_type": "code",
      "metadata": {
        "id": "3uObAP8sDS49"
      },
      "source": [
        ""
      ],
      "execution_count": null,
      "outputs": []
    },
    {
      "cell_type": "code",
      "metadata": {
        "id": "hNLNMLUjDXli"
      },
      "source": [
        ""
      ],
      "execution_count": null,
      "outputs": []
    },
    {
      "cell_type": "code",
      "metadata": {
        "id": "bPgsL26ADboc"
      },
      "source": [
        ""
      ],
      "execution_count": null,
      "outputs": []
    },
    {
      "cell_type": "code",
      "metadata": {
        "id": "5bQ44JLyDi5L"
      },
      "source": [
        ""
      ],
      "execution_count": null,
      "outputs": []
    },
    {
      "cell_type": "code",
      "metadata": {
        "id": "xl7KY4IsD5hJ"
      },
      "source": [
        ""
      ],
      "execution_count": null,
      "outputs": []
    },
    {
      "cell_type": "code",
      "metadata": {
        "id": "uipyDQceFdlq"
      },
      "source": [
        ""
      ],
      "execution_count": null,
      "outputs": []
    },
    {
      "cell_type": "markdown",
      "metadata": {
        "id": "lsRZZ8XCNXl7"
      },
      "source": [
        "### 캘리포니아 주택 가격에 대한 선형 회귀"
      ]
    },
    {
      "cell_type": "code",
      "metadata": {
        "id": "5E51peQAIREg"
      },
      "source": [
        ""
      ],
      "execution_count": null,
      "outputs": []
    },
    {
      "cell_type": "code",
      "metadata": {
        "id": "2HJTs9LNIjAd"
      },
      "source": [
        ""
      ],
      "execution_count": null,
      "outputs": []
    },
    {
      "cell_type": "code",
      "metadata": {
        "id": "EUvXK8-qI9W3"
      },
      "source": [
        ""
      ],
      "execution_count": null,
      "outputs": []
    },
    {
      "cell_type": "code",
      "metadata": {
        "id": "mM8ptouZJDAq"
      },
      "source": [
        ""
      ],
      "execution_count": null,
      "outputs": []
    },
    {
      "cell_type": "code",
      "metadata": {
        "id": "reB4-DUmJIt1"
      },
      "source": [
        ""
      ],
      "execution_count": null,
      "outputs": []
    },
    {
      "cell_type": "markdown",
      "metadata": {
        "id": "sLK2j8jjU7iR"
      },
      "source": [
        "## 릿지 회귀(Ridge Regression)\n",
        "\n",
        "* 릿지 회귀는 선형 회귀를 개선한 선형 모델\n",
        "* 릿지 회귀는 선형 회귀와 비슷하지만, 가중치의 절대값을 최대한 작게 만든다는 것이 다름\n",
        "* 이러한 방법은 각각의 특성(feature)이 출력 값에 주는 영향을 최소한으로 만들도록 규제(regularization)를 거는 것\n",
        "* 규제를 사용하면 다중공선성(multicollinearity) 문제를 방지하기 때문에 모델의 과대적합을 막을 수 있게 됨\n",
        "* 다중공선성 문제는 두 특성이 일치에 가까울 정도로 관련성(상관관계)이 높을 경우 발생\n",
        "* 릿지 회귀는 다음과 같은 함수를 최소화 하는 파라미터 $w$를 찾음\n",
        "\n",
        "\\begin{equation}\n",
        "RidgeMSE = \\frac{1}{N} \\sum_{i=1}^{N}(y_i - \\hat{y}_i)^2 + \\alpha \\sum_{i=1}^{p} w_i^2\n",
        "\\end{equation}\n",
        "\n",
        "  + $\\alpha$: 사용자가 지정하는 매개변수\n",
        "  * $\\alpha$가 크면 규제의 효과가 커지고, $\\alpha$가 작으면 규제의 효과가 작아짐"
      ]
    },
    {
      "cell_type": "markdown",
      "metadata": {
        "id": "FD_GYMeXpQRf"
      },
      "source": [
        "### 보스턴 주택 가격에 대한 릿지 회귀"
      ]
    },
    {
      "cell_type": "code",
      "metadata": {
        "id": "Chk1KBp7RmpL"
      },
      "source": [
        ""
      ],
      "execution_count": null,
      "outputs": []
    },
    {
      "cell_type": "code",
      "metadata": {
        "id": "9_8dGz45ZdvJ"
      },
      "source": [
        ""
      ],
      "execution_count": null,
      "outputs": []
    },
    {
      "cell_type": "code",
      "metadata": {
        "id": "OVvq3xFMZJ5b"
      },
      "source": [
        ""
      ],
      "execution_count": null,
      "outputs": []
    },
    {
      "cell_type": "code",
      "metadata": {
        "id": "UqcEnO53bPgp"
      },
      "source": [
        ""
      ],
      "execution_count": null,
      "outputs": []
    },
    {
      "cell_type": "code",
      "metadata": {
        "id": "Mx0jKA2-XHC0"
      },
      "source": [
        ""
      ],
      "execution_count": null,
      "outputs": []
    },
    {
      "cell_type": "markdown",
      "metadata": {
        "id": "HWM5782yb6eb"
      },
      "source": [
        "* 릿지 회귀는 가중치에 제약을 두기 때문에 선형 회귀 모델보다 훈련 데이터 점수가 낮을 수 있음\n",
        "* 일반화 성능은 릿지 회귀가 더 높기 때문에 평가 데이터 점수는 릿지 회귀가 더 좋음\n",
        "\n",
        "* 일반화 성능에 영향을 주는 매개 변수인 $\\alpha$ 값을 조정해 보면서 릿지 회귀 분석의 성능이 어떻게 변하는지 확인 필요"
      ]
    },
    {
      "cell_type": "markdown",
      "metadata": {
        "id": "tLliHYfepXyM"
      },
      "source": [
        "### 캘리포니아 주택 가격에 대한 릿지 회귀"
      ]
    },
    {
      "cell_type": "code",
      "metadata": {
        "id": "GeMFTgyhpaX5"
      },
      "source": [
        ""
      ],
      "execution_count": null,
      "outputs": []
    },
    {
      "cell_type": "code",
      "metadata": {
        "id": "gd-rehlNp_6w"
      },
      "source": [
        ""
      ],
      "execution_count": null,
      "outputs": []
    },
    {
      "cell_type": "code",
      "metadata": {
        "id": "MLu2PURSqDLH"
      },
      "source": [
        ""
      ],
      "execution_count": null,
      "outputs": []
    },
    {
      "cell_type": "code",
      "metadata": {
        "id": "tt8pmiwHqHjv"
      },
      "source": [
        ""
      ],
      "execution_count": null,
      "outputs": []
    },
    {
      "cell_type": "markdown",
      "metadata": {
        "id": "Lrgfx3qjdxE-"
      },
      "source": [
        "## 라쏘 회귀(Lasso Regression)\n",
        "\n",
        "* 선형 회귀에 규제를 적용한 또 다른 모델로 라쏘 회귀가 있음\n",
        "* 라쏘 회귀는 릿지 회귀와 비슷하게 가중치를 0에 가깝게 만들지만, 조금 다른 방식을 사용\n",
        "\n",
        "* 라쏘 회귀에서는 다음과 같은 함수를 최소화 하는 파라미터 $w$를 찾음\n",
        "\n",
        "\\begin{equation}\n",
        "LassoMSE = \\frac{1}{N} \\sum_{i=1}^{N} (y_i - \\hat{y}_i)^2 + \\alpha \\sum_{i=1}^{p} |w_i|\n",
        "\\end{equation}\n",
        "\n",
        "* 라쏘 회귀도 매개변수인 $\\alpha$ 값을 통해 규제의 강도 조절 가능"
      ]
    },
    {
      "cell_type": "markdown",
      "metadata": {
        "id": "fPsXgo0FrJpC"
      },
      "source": [
        "### 보스턴 주택 가격에 대한 라쏘 회귀"
      ]
    },
    {
      "cell_type": "code",
      "metadata": {
        "id": "QszHpEISbS9L"
      },
      "source": [
        ""
      ],
      "execution_count": null,
      "outputs": []
    },
    {
      "cell_type": "code",
      "metadata": {
        "id": "paq6-qhteZp8"
      },
      "source": [
        ""
      ],
      "execution_count": null,
      "outputs": []
    },
    {
      "cell_type": "code",
      "metadata": {
        "id": "PQMymm8cY7TA"
      },
      "source": [
        ""
      ],
      "execution_count": null,
      "outputs": []
    },
    {
      "cell_type": "code",
      "metadata": {
        "id": "CsOzBDA_Y_Ts"
      },
      "source": [
        ""
      ],
      "execution_count": null,
      "outputs": []
    },
    {
      "cell_type": "code",
      "metadata": {
        "id": "N30DkUpgZ9RG"
      },
      "source": [
        ""
      ],
      "execution_count": null,
      "outputs": []
    },
    {
      "cell_type": "markdown",
      "metadata": {
        "id": "LfhxV7ABrOIv"
      },
      "source": [
        "### 캘리포니아 주택 가격에 대한 라쏘 회귀"
      ]
    },
    {
      "cell_type": "code",
      "metadata": {
        "id": "pPQOuRzbrU2d"
      },
      "source": [
        ""
      ],
      "execution_count": null,
      "outputs": []
    },
    {
      "cell_type": "code",
      "metadata": {
        "id": "1NcDeP4wrvWY"
      },
      "source": [
        ""
      ],
      "execution_count": null,
      "outputs": []
    },
    {
      "cell_type": "code",
      "metadata": {
        "id": "kSCGiXDBr0kY"
      },
      "source": [
        ""
      ],
      "execution_count": null,
      "outputs": []
    },
    {
      "cell_type": "code",
      "metadata": {
        "id": "BOX-iUZYsEQy"
      },
      "source": [
        ""
      ],
      "execution_count": null,
      "outputs": []
    },
    {
      "cell_type": "markdown",
      "metadata": {
        "id": "e3JIGKKtaaXJ"
      },
      "source": [
        "## 신축망 (Elastic-Net)\n",
        "\n",
        "* 신축망은 릿지 회귀와 라쏘 회귀, 두 모델의 모든 규제를 사용하는 선형 모델\n",
        "* 두 모델의 장점을 모두 갖고 있기 때문에 좋은 성능을 보임\n",
        "* 데이터 특성이 많거나 서로 상관 관계가 높은 특성이 존재 할 때 위의 두 모델보다 좋은 성능을 보여 줌\n",
        "\n",
        "* 신축망은 다음과 같은 함수를 최소화 하는 파라미터 $w$를 찾음\n",
        "\n",
        "\\begin{equation}\n",
        "ElasticMSE = \\frac{1}{N} \\sum_{i=1}^{N} (y_i - \\hat{y}_i) + \\alpha \\rho \\sum_{i=1}^{p} |w_i| + \\alpha (1 - \\rho) \\sum_{i=1}^{p} w_i^2\n",
        "\\end{equation}\n",
        "\n",
        "  + $\\alpha$: 규제의 강도를 조절하는 매개변수\n",
        "  + $\\rho$: 라쏘 규제와 릿지 규제 사이의 가중치를 조절하는 매개변수"
      ]
    },
    {
      "cell_type": "markdown",
      "metadata": {
        "id": "MP8h1KrgsLlt"
      },
      "source": [
        "### 보스턴 주택 가격에 대한 신축망"
      ]
    },
    {
      "cell_type": "code",
      "metadata": {
        "id": "6gnNzzFjZCXi"
      },
      "source": [
        ""
      ],
      "execution_count": null,
      "outputs": []
    },
    {
      "cell_type": "code",
      "metadata": {
        "id": "lkw-_6xBdqM-"
      },
      "source": [
        ""
      ],
      "execution_count": null,
      "outputs": []
    },
    {
      "cell_type": "code",
      "metadata": {
        "id": "a1TVo-Nrdsfd"
      },
      "source": [
        ""
      ],
      "execution_count": null,
      "outputs": []
    },
    {
      "cell_type": "code",
      "metadata": {
        "id": "7qUVyusSd1s3"
      },
      "source": [
        ""
      ],
      "execution_count": null,
      "outputs": []
    },
    {
      "cell_type": "code",
      "metadata": {
        "id": "D4XipwC1aBgs"
      },
      "source": [
        ""
      ],
      "execution_count": null,
      "outputs": []
    },
    {
      "cell_type": "markdown",
      "metadata": {
        "id": "TJc5zH1BsZPn"
      },
      "source": [
        "### 캘리포니아 주택 가격에 대한 신축망"
      ]
    },
    {
      "cell_type": "code",
      "metadata": {
        "id": "K0fIz0b7sZPo"
      },
      "source": [
        ""
      ],
      "execution_count": null,
      "outputs": []
    },
    {
      "cell_type": "code",
      "metadata": {
        "id": "phXGBoXSsZPq"
      },
      "source": [
        ""
      ],
      "execution_count": null,
      "outputs": []
    },
    {
      "cell_type": "code",
      "metadata": {
        "id": "TEZb9aw1sZPs"
      },
      "source": [
        ""
      ],
      "execution_count": null,
      "outputs": []
    },
    {
      "cell_type": "code",
      "metadata": {
        "id": "P4Mu5L8xsZPt"
      },
      "source": [
        ""
      ],
      "execution_count": null,
      "outputs": []
    },
    {
      "cell_type": "markdown",
      "metadata": {
        "id": "mX_-A9Jxvw3w"
      },
      "source": [
        "## 직교 정합 추구 (Orthogonal Matching Pursuit)\n",
        "\n",
        "* 직교 정합 추구 방법은 모델에 존재하는 가중치 벡터에 특별한 제약을 거는 방법\n",
        "\n",
        "* 직교 정합 추구 방법은 다음을 만족하는 파라미터 $w$를 찾는것이 목표\n",
        "\n",
        "\\begin{equation}\n",
        "\\underset{w}{\\arg \\min} \\; ||y - \\hat{y}||^2_2 \\; subject \\; to \\; ||w||_0 \\leq k\n",
        "\\end{equation}\n",
        "\n",
        "  + $||w||_0$: 가중치 벡터 $w$에서 0이 아닌 값의 개수\n",
        "\n",
        "* 직교 정합 추구 방법은 가중치 벡터 $w$에서 0이 아닌 값이 $k$개 이하가 되도록 훈련됨\n",
        "* 이러한 방법은 모델이 필요 없는 데이터 특성을 훈련 과정에서 자동으로 제거 하도록 만들 수 있음"
      ]
    },
    {
      "cell_type": "markdown",
      "metadata": {
        "id": "UUYqW5psso4_"
      },
      "source": [
        "### 보스턴 주택 가격에 대한 직교 정합 추구"
      ]
    },
    {
      "cell_type": "code",
      "metadata": {
        "id": "In6vn6UWd4GS"
      },
      "source": [
        ""
      ],
      "execution_count": null,
      "outputs": []
    },
    {
      "cell_type": "code",
      "metadata": {
        "id": "m41ST26D0Nli"
      },
      "source": [
        ""
      ],
      "execution_count": null,
      "outputs": []
    },
    {
      "cell_type": "code",
      "metadata": {
        "id": "iQkizPOh0OIK"
      },
      "source": [
        ""
      ],
      "execution_count": null,
      "outputs": []
    },
    {
      "cell_type": "code",
      "metadata": {
        "id": "it5nklzx0bQi"
      },
      "source": [
        "  "
      ],
      "execution_count": null,
      "outputs": []
    },
    {
      "cell_type": "code",
      "metadata": {
        "id": "U_9Z8Ro2aJ1L"
      },
      "source": [
        ""
      ],
      "execution_count": null,
      "outputs": []
    },
    {
      "cell_type": "markdown",
      "metadata": {
        "id": "G_L7WOt73JK2"
      },
      "source": [
        "* 직교 정합 추구 방법은 위에서 설명한 제약 조건 대신에 다음 조건을 만족하도록 변경 가능\n",
        "\n",
        "\\begin{equation}\n",
        "\\underset{w}{\\arg \\min} \\; ||w||_0 \\; subject \\; to \\; ||y - \\hat{y}||^2_2 \\leq tol\n",
        "\\end{equation}\n",
        "\n",
        "  + $||y - \\hat{y}||^2_2$는 $\\sum_{i=1}^N (y - \\hat{y})^2$와 같은 의미\n",
        "\n",
        "* 위의 식을 통해서 직교 정합 추구 방법을 $y$와 $\\hat{y}$ 사이의 오차 제곱 합을 $tol$ 이하로 하면서 $||w||_0$를 최소로 하는 모델로 대체 가능"
      ]
    },
    {
      "cell_type": "code",
      "metadata": {
        "id": "quvZPNpb0hzP"
      },
      "source": [
        ""
      ],
      "execution_count": null,
      "outputs": []
    },
    {
      "cell_type": "code",
      "metadata": {
        "id": "c2P4Kygh3EIN"
      },
      "source": [
        ""
      ],
      "execution_count": null,
      "outputs": []
    },
    {
      "cell_type": "code",
      "metadata": {
        "id": "5ycf7IJ-aQa_"
      },
      "source": [
        ""
      ],
      "execution_count": null,
      "outputs": []
    },
    {
      "cell_type": "markdown",
      "metadata": {
        "id": "6i0aCYFGuU8i"
      },
      "source": [
        "### 캘리포니아 주택 가격에 대한 직교 정합 추구"
      ]
    },
    {
      "cell_type": "code",
      "metadata": {
        "id": "ITmWUXbCuU8j"
      },
      "source": [
        ""
      ],
      "execution_count": null,
      "outputs": []
    },
    {
      "cell_type": "code",
      "metadata": {
        "id": "K1rtnK6PuU8l"
      },
      "source": [
        ""
      ],
      "execution_count": null,
      "outputs": []
    },
    {
      "cell_type": "code",
      "metadata": {
        "id": "AGIprTW3uU8m"
      },
      "source": [
        ""
      ],
      "execution_count": null,
      "outputs": []
    },
    {
      "cell_type": "code",
      "metadata": {
        "id": "C_Z8fGneuU8o"
      },
      "source": [
        ""
      ],
      "execution_count": null,
      "outputs": []
    },
    {
      "cell_type": "code",
      "metadata": {
        "id": "Uifdlm0VvEKg"
      },
      "source": [
        ""
      ],
      "execution_count": null,
      "outputs": []
    },
    {
      "cell_type": "code",
      "metadata": {
        "id": "aynfdfB4vEKj"
      },
      "source": [
        ""
      ],
      "execution_count": null,
      "outputs": []
    },
    {
      "cell_type": "code",
      "metadata": {
        "id": "EOAGG16nvEKm"
      },
      "source": [
        ""
      ],
      "execution_count": null,
      "outputs": []
    },
    {
      "cell_type": "markdown",
      "metadata": {
        "id": "gjB2JdDmqJK2"
      },
      "source": [
        "## 다항 회귀 (Polynomial Regression)\n",
        "\n",
        "* 입력 데이터를 비선형 변환 후 사용하는 방법\n",
        "* 모델 자체는 선형 모델\n",
        "\n",
        "\\begin{equation}\n",
        "\\hat{y} = w_1 x_1 + w_2 x_2 + w_3 x_3 + w_4 x_1^2 + w_5 x_2^2\n",
        "\\end{equation}\n",
        "\n",
        "* 차수가 높아질수록 더 복잡한 데이터 학습 가능\n",
        "\n",
        "![polynomial regression](https://scikit-learn.org/stable/_images/sphx_glr_plot_polynomial_interpolation_0011.png)\n"
      ]
    },
    {
      "cell_type": "markdown",
      "metadata": {
        "id": "NbUZMDHcvM1V"
      },
      "source": [
        "### 보스턴 주택 가격에 대한 다항 회귀"
      ]
    },
    {
      "cell_type": "code",
      "metadata": {
        "id": "gXCuEhyupN0t"
      },
      "source": [
        ""
      ],
      "execution_count": null,
      "outputs": []
    },
    {
      "cell_type": "code",
      "metadata": {
        "id": "AKiOBh3oxk2c"
      },
      "source": [
        ""
      ],
      "execution_count": null,
      "outputs": []
    },
    {
      "cell_type": "code",
      "metadata": {
        "id": "kAkkfyPuxsI-"
      },
      "source": [
        ""
      ],
      "execution_count": null,
      "outputs": []
    },
    {
      "cell_type": "code",
      "metadata": {
        "id": "0snXcEITyuXF"
      },
      "source": [
        ""
      ],
      "execution_count": null,
      "outputs": []
    },
    {
      "cell_type": "code",
      "metadata": {
        "id": "-QckZRMAy16e"
      },
      "source": [
        ""
      ],
      "execution_count": null,
      "outputs": []
    },
    {
      "cell_type": "markdown",
      "metadata": {
        "id": "xSoT5BRXvnDe"
      },
      "source": [
        "### 캘리포니아 주택 가격에 대한 다항 회귀"
      ]
    },
    {
      "cell_type": "code",
      "metadata": {
        "id": "W04zRIqDvnDf"
      },
      "source": [
        ""
      ],
      "execution_count": null,
      "outputs": []
    },
    {
      "cell_type": "code",
      "metadata": {
        "id": "dKXwes7OvnDg"
      },
      "source": [
        ""
      ],
      "execution_count": null,
      "outputs": []
    },
    {
      "cell_type": "code",
      "metadata": {
        "id": "JuqxnXGfvnDi"
      },
      "source": [
        ""
      ],
      "execution_count": null,
      "outputs": []
    },
    {
      "cell_type": "code",
      "metadata": {
        "id": "R04yE2qdvnDm"
      },
      "source": [
        ""
      ],
      "execution_count": null,
      "outputs": []
    },
    {
      "cell_type": "markdown",
      "metadata": {
        "id": "bPRX4C7BYShH"
      },
      "source": [
        "## 참고문헌\n",
        "\n",
        "* scikit-learn 사이트: https://scikit-learn.org/\n",
        "* Jake VanderPlas, \"Python Data Science Handbook\", O'Reilly\n",
        "* Sebastian Raschka, Vahid Mirjalili, \"Python Machine Learning\", Packt\n",
        "* Giuseppe Bonaccorso, \"Machine Learning Algorithm\", Packt\n",
        "* Aurelien Geron, \"Hands-On Machine Learning with Scikit-Learn, Keras, and TensorFlow: Concepts, Tools, and Techniques to Build Intelligent Systems\", O'Reilly"
      ]
    }
  ]
}